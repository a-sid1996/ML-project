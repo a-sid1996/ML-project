{
 "cells": [
  {
   "cell_type": "code",
   "execution_count": 9,
   "metadata": {},
   "outputs": [],
   "source": [
    "import numpy as np\n",
    "from pandas import read_csv\n",
    "import sklearn\n",
    "from sklearn.impute import SimpleImputer\n",
    "from sklearn.model_selection import train_test_split\n",
    "from sklearn.preprocessing import StandardScaler\n",
    "from sklearn.decomposition import PCA\n",
    "from sklearn.linear_model import LinearRegression\n",
    "from sklearn.svm import SVR\n",
    "from sklearn.neural_network import MLPRegressor\n",
    "from sklearn.tree import DecisionTreeRegressor\n",
    "from sklearn.gaussian_process import GaussianProcessRegressor\n",
    "from sklearn.ensemble import RandomForestRegressor\n",
    "from sklearn.ensemble import AdaBoostRegressor\n",
    "from sklearn.metrics import mean_squared_error\n",
    "from sklearn.metrics import make_scorer\n",
    "from sklearn.model_selection import RandomizedSearchCV\n",
    "np.set_printoptions(precision=3, suppress=True) \n",
    "from sklearn.exceptions import ConvergenceWarning\n",
    "import warnings\n",
    "warnings.filterwarnings(\"ignore\", category=FutureWarning) \n",
    "warnings.filterwarnings(\"ignore\", category=DeprecationWarning)\n",
    "warnings.filterwarnings(\"ignore\", category=ConvergenceWarning)"
   ]
  },
  {
   "cell_type": "code",
   "execution_count": 10,
   "metadata": {},
   "outputs": [
    {
     "data": {
      "text/plain": [
       "array([0.   , 0.   , 0.   , 2.419, 1.225, 0.667, 0.   , 0.   , 3.74 ])"
      ]
     },
     "execution_count": 10,
     "metadata": {},
     "output_type": "execute_result"
    }
   ],
   "source": [
    "#data = read_csv('qsar_aquatic_toxicity.csv', delimiter=';', skiprows=0)\n",
    "data = np.loadtxt('qsar_aquatic_toxicity.csv', delimiter=';')\n",
    "X = data[:,:-1]\n",
    "y = data[:,-1]\n",
    "data[0]"
   ]
  },
  {
   "cell_type": "code",
   "execution_count": 7,
   "metadata": {},
   "outputs": [],
   "source": [
    "class Aquatic_toxicity:\n",
    "    \n",
    "    def __init__(self):\n",
    "        return\n",
    "    \n",
    "    def read_data(self):\n",
    "        # reading data \n",
    "        data = np.loadtxt('qsar_aquatic_toxicity.csv', delimiter=';')\n",
    "        return data\n",
    "    \n",
    "    def preprocessing(self, data):               \n",
    "        # splitting data\n",
    "        X = data[:,:-1]\n",
    "        y = data[:,-1]\n",
    "        X_train, X_test, y_train, y_test = train_test_split(X, y, test_size = 0.2, random_state = 0)        \n",
    "        #preprocessing using standard scaler\n",
    "        scaler = StandardScaler()\n",
    "        X_train = scaler.fit_transform(X_train)\n",
    "        X_test = scaler.transform(X_test)\n",
    "        return X_train, y_train, X_test, y_test\n",
    "    \n",
    "    def dim_Reduction(self, X_train, X_test):\n",
    "        # Dimensionality Reduction using PCA from 123 dims to 20 dims\n",
    "        pca = PCA(n_components = 20)\n",
    "        X_train = pca.fit_transform(X_train)\n",
    "        X_test = pca.transform(X_test)\n",
    "        return X_train, X_test\n",
    "        \n",
    "    def cv_SVR(self, X, y):\n",
    "        #scorer = make_scorer(neg_mean_squared_error)\n",
    "        C_grid = [0.1, 1, 10]\n",
    "        gamma_grid = np.logspace(-2, 1, 4)[0:3]\n",
    "        svm = sklearn.svm.SVR(kernel='rbf')\n",
    "        param_grid = { 'C' : C_grid, 'gamma' : gamma_grid, 'kernel' : ['rbf', 'sigmoid',  'linear']}\n",
    "        gridcv = sklearn.model_selection.GridSearchCV(svm, param_grid, n_jobs=-1, verbose=1, cv=3)\n",
    "        #, scoring = 'neg_mean_squared_error'\n",
    "        gridcv.fit(X_train, y_train)\n",
    "        print(\"best parameters:\", gridcv.best_params_)\n",
    "        print(\"%.1f%% neg mean squared error on validation sets (average)\" % (gridcv.best_score_*100))\n",
    "        return gridcv.best_params_\n",
    "    \n",
    "    def cv_DTR(self, X, y):\n",
    "        dt = DecisionTreeRegressor()\n",
    "        param_grid = {\n",
    "            \"min_samples_split\" : np.random.random_sample((100,)),\n",
    "            \"min_samples_leaf\" : np.arange(1,6),\n",
    "            'max_depth': range(1, 20),\n",
    "            'criterion' : ['mse', 'mae', 'friedman_mse'],\n",
    "            'splitter' : ['best', 'random'],\n",
    "        }\n",
    "        return Aquatic_toxicity.randomCV(dt, X, y, param_grid, 100, 6)\n",
    "        \n",
    "    def cv_RandomForest(self, X, y):\n",
    "        rf = RandomForestRegressor()\n",
    "        param_grid = {\n",
    "            \"n_estimators\" : [10*x for x in np.arange(1,50)],\n",
    "            \"min_samples_split\" : np.random.random_sample((100,)),\n",
    "            \"min_samples_leaf\" : np.arange(1,6),\n",
    "            'max_depth': range(1, 20),\n",
    "        }\n",
    "        return Aquatic_toxicity.randomCV(rf, X, y, param_grid, 30, 6)\n",
    "        \n",
    "    def cv_adaBoost(self, X, y):\n",
    "        #scorer = make_scorer(precision_score)\n",
    "        ada_boost = AdaBoostRegressor(n_estimators=50, learning_rate=1)\n",
    "        param_grid = {'n_estimators': range(1, 50), 'learning_rate': [0.1, 0.5, 1]}\n",
    "        gridcv = sklearn.model_selection.GridSearchCV(ada_boost, param_grid, verbose=1, cv=3, n_jobs=-1)\n",
    "                                                      #, scoring='explained_variance')\n",
    "        gridcv.fit(X, y)\n",
    "        print(\"best parameters:\", gridcv.best_params_)\n",
    "        print(\"%.1f%% validation on validation sets (average)\" % (gridcv.best_score_))\n",
    "        return gridcv.best_params_\n",
    "    \n",
    "    def cv_linReg(self, X, y):\n",
    "        lr = LinearRegression()\n",
    "        param_grid = {\n",
    "            \"fit_intercept\" : [True, False],\n",
    "        }\n",
    "        return Aquatic_toxicity.randomCV(lr, X, y, param_grid, 50, 6)\n",
    "        \n",
    "    def cv_GP(self, X, y):\n",
    "        clf = GaussianProcessRegressor()\n",
    "        param_grid = {\n",
    "            \n",
    "        \"normalize_y\" : [True, False],\n",
    "        \"copy_X_train\" : [True, False],\n",
    "        \"alpha\" : np.linspace(0, 5, 100),\n",
    "        }\n",
    "        return Aquatic_toxicity.randomCV(clf, X, y, param_grid, 25, 6)\n",
    "    \n",
    "    def cv_NNRegressor(self, X, y):\n",
    "        nn = sklearn.neural_network.MLPRegressor(hidden_layer_sizes=(50,),\n",
    "                                           solver='sgd', batch_size=100, max_iter=10,\n",
    "                                           learning_rate_init=.01, momentum=0.9, alpha=0.05,\n",
    "                                           verbose=False, random_state=0)\n",
    "\n",
    "        param_grid ={\n",
    "                    'hidden_layer_sizes' : range(2,100),\n",
    "                    \"activation\" : ['identity', 'logistic', 'tanh', 'relu']\n",
    "                    }\n",
    "        return Aquatic_toxicity.randomCV(nn, X, y, param_grid, 100, 6)\n",
    "        \n",
    "    def randomCV(clf, X, y, param_grid, n_iter, cv):\n",
    "        #scorer = make_scorer(precision_score)\n",
    "        random_search = RandomizedSearchCV(clf, param_distributions = param_grid, n_iter = n_iter, cv = cv, iid = False)\n",
    "        #scoring = \"explained_variance\"\n",
    "        random_search.fit(X, y)\n",
    "        #print(random_search.cv_results_)\n",
    "        Aquatic_toxicity.report(random_search.cv_results_)\n",
    "        return random_search.best_params_\n",
    "    \n",
    "    def report(results, n_top=1):\n",
    "        for i in range(1, n_top + 1):\n",
    "            candidates = np.flatnonzero(results['rank_test_score'] == i)\n",
    "            k = 0\n",
    "            for candidate in candidates:                \n",
    "                print(\"Model with rank: {0}\".format(i))\n",
    "                print(\"Variance on validation data: {0:.3f} (std: {1:.3f})\".format(\n",
    "                      results['mean_test_score'][candidate],\n",
    "                      results['std_test_score'][candidate]))\n",
    "                print(\"Parameters: {0}\".format(results['params'][candidate]))\n",
    "                print(\"\")\n",
    "                k += 1\n",
    "                if k == 3:\n",
    "                    break\n",
    "                \n",
    "    def predict(self, model, X_test, y_test):\n",
    "        predict = model.predict(X_test)\n",
    "        predict[predict<0] =0\n",
    "        rmse = mean_squared_error(y_test, predict)\n",
    "        print(\"MSE on test data : \", rmse)"
   ]
  },
  {
   "cell_type": "code",
   "execution_count": 28,
   "metadata": {},
   "outputs": [
    {
     "data": {
      "text/plain": [
       "array([[ 1.258, -0.652, -0.571, ..., -0.18 , -0.711, -0.415],\n",
       "       [ 1.276,  1.149,  0.007, ..., -0.556,  0.67 , -0.415],\n",
       "       [-1.016, -0.843, -0.571, ..., -0.825, -0.711, -0.415],\n",
       "       ...,\n",
       "       [-1.016, -0.843, -0.571, ...,  0.857, -0.711, -0.415],\n",
       "       [ 0.373,  0.647,  0.585, ...,  0.857, -0.021,  0.799],\n",
       "       [-0.602, -0.253,  0.007, ..., -0.1  , -0.711, -0.415]])"
      ]
     },
     "execution_count": 28,
     "metadata": {},
     "output_type": "execute_result"
    }
   ],
   "source": [
    "X_train"
   ]
  },
  {
   "cell_type": "code",
   "execution_count": 30,
   "metadata": {},
   "outputs": [
    {
     "name": "stdout",
     "output_type": "stream",
     "text": [
      "---------DTR--------\n",
      "Model with rank: 1\n",
      "Variance on validation data: 0.402 (std: 0.080)\n",
      "Parameters: {'splitter': 'random', 'min_samples_split': 0.06846205825429486, 'min_samples_leaf': 3, 'max_depth': 16, 'criterion': 'friedman_mse'}\n",
      "\n",
      "MSE on test data :  2.0598038388339965\n"
     ]
    }
   ],
   "source": [
    "if __name__ == \"__main__\":\n",
    "    obj = Aquatic_toxicity()\n",
    "    data = obj.read_data()\n",
    "    X_train, y_train, X_test, y_test = obj.preprocessing(data)\n",
    "    print('---------DTR--------')\n",
    "    model = obj.cv_DTR(X_train, y_train)\n",
    "    reg = sklearn.tree.DecisionTreeRegressor().set_params(**model).fit(X_train, y_train)\n",
    "    obj.predict(reg, X_test, y_test)"
   ]
  },
  {
   "cell_type": "code",
   "execution_count": 8,
   "metadata": {
    "scrolled": true
   },
   "outputs": [
    {
     "name": "stdout",
     "output_type": "stream",
     "text": [
      "---------SVR--------\n",
      "Fitting 3 folds for each of 27 candidates, totalling 81 fits\n"
     ]
    },
    {
     "name": "stderr",
     "output_type": "stream",
     "text": [
      "[Parallel(n_jobs=-1)]: Using backend LokyBackend with 8 concurrent workers.\n",
      "[Parallel(n_jobs=-1)]: Done  81 out of  81 | elapsed:    0.5s finished\n"
     ]
    },
    {
     "name": "stdout",
     "output_type": "stream",
     "text": [
      "best parameters: {'C': 10, 'gamma': 0.1, 'kernel': 'rbf'}\n",
      "52.1% neg mean squared error on validation sets (average)\n",
      "MSE on test data :  1.395885346501551\n",
      "---------DTR--------\n",
      "Model with rank: 1\n",
      "Variance on validation data: 0.392 (std: 0.041)\n",
      "Parameters: {'splitter': 'random', 'min_samples_split': 0.09884540354706373, 'min_samples_leaf': 5, 'max_depth': 14, 'criterion': 'mse'}\n",
      "\n",
      "MSE on test data :  2.2268043378391127\n",
      "---------Random Forrest Regressor--------\n",
      "Model with rank: 1\n",
      "Variance on validation data: 0.482 (std: 0.050)\n",
      "Parameters: {'n_estimators': 180, 'min_samples_split': 0.04761171036789935, 'min_samples_leaf': 3, 'max_depth': 17}\n",
      "\n",
      "MSE on test data :  1.7227859276276762\n",
      "---------Adaboost Regressor--------\n",
      "Fitting 3 folds for each of 147 candidates, totalling 441 fits\n"
     ]
    },
    {
     "name": "stderr",
     "output_type": "stream",
     "text": [
      "[Parallel(n_jobs=-1)]: Using backend LokyBackend with 8 concurrent workers.\n",
      "[Parallel(n_jobs=-1)]: Done  34 tasks      | elapsed:    0.3s\n",
      "[Parallel(n_jobs=-1)]: Done 426 out of 441 | elapsed:    5.7s remaining:    0.1s\n",
      "[Parallel(n_jobs=-1)]: Done 441 out of 441 | elapsed:    5.9s finished\n"
     ]
    },
    {
     "name": "stdout",
     "output_type": "stream",
     "text": [
      "best parameters: {'learning_rate': 1, 'n_estimators': 18}\n",
      "0.5% validation on validation sets (average)\n",
      "MSE on test data :  1.6474053608017445\n",
      "---------Gaussian Process Regressor--------\n",
      "Model with rank: 1\n",
      "Variance on validation data: 0.527 (std: 0.057)\n",
      "Parameters: {'normalize_y': True, 'copy_X_train': False, 'alpha': 1.1111111111111112}\n",
      "\n",
      "MSE on test data :  1.4958514587168728\n",
      "---------Linear Regressor--------\n"
     ]
    },
    {
     "name": "stderr",
     "output_type": "stream",
     "text": [
      "C:\\Users\\arsal\\Anaconda3\\lib\\site-packages\\sklearn\\model_selection\\_search.py:266: UserWarning: The total space of parameters 2 is smaller than n_iter=50. Running 2 iterations. For exhaustive searches, use GridSearchCV.\n",
      "  % (grid_size, self.n_iter, grid_size), UserWarning)\n"
     ]
    },
    {
     "name": "stdout",
     "output_type": "stream",
     "text": [
      "Model with rank: 1\n",
      "Variance on validation data: 0.448 (std: 0.051)\n",
      "Parameters: {'fit_intercept': True}\n",
      "\n",
      "MSE on test data :  1.4197727187578515\n",
      "---------NN Regressor--------\n",
      "Model with rank: 1\n",
      "Variance on validation data: 0.474 (std: 0.053)\n",
      "Parameters: {'hidden_layer_sizes': 35, 'activation': 'tanh'}\n",
      "\n",
      "MSE on test data :  1.4026524538929086\n"
     ]
    }
   ],
   "source": [
    "if __name__ == \"__main__\":\n",
    "    obj = Aquatic_toxicity()\n",
    "    data = obj.read_data()\n",
    "    X_train, y_train, X_test, y_test = obj.preprocessing(data)\n",
    "    # X_train, X_test = obj.dim_Reduction(X_train, X_test)\n",
    "    print('---------SVR--------')\n",
    "    model = obj.cv_SVR(X_train, y_train)\n",
    "    reg = sklearn.svm.SVR().set_params(**model).fit(X_train, y_train)\n",
    "    obj.predict(reg, X_test, y_test)\n",
    "    print('---------DTR--------')\n",
    "    model = obj.cv_DTR(X_train, y_train)\n",
    "    reg = sklearn.tree.DecisionTreeRegressor().set_params(**model).fit(X_train, y_train)\n",
    "    obj.predict(reg, X_test, y_test)\n",
    "    print('---------Random Forrest Regressor--------')\n",
    "    # taking more than 3 mins \n",
    "    model = obj.cv_RandomForest(X_train, y_train)\n",
    "    reg = sklearn.ensemble.RandomForestRegressor().set_params(**model).fit(X_train, y_train)\n",
    "    obj.predict(reg, X_test, y_test)\n",
    "    print('---------Adaboost Regressor--------')\n",
    "    model = obj.cv_adaBoost(X_train, y_train)\n",
    "    reg = sklearn.ensemble.AdaBoostRegressor().set_params(**model).fit(X_train, y_train)\n",
    "    obj.predict(reg, X_test, y_test)\n",
    "    print('---------Gaussian Process Regressor--------')\n",
    "    model = obj.cv_GP(X_train, y_train)\n",
    "    reg = sklearn.gaussian_process.GaussianProcessRegressor().set_params(**model).fit(X_train, y_train)\n",
    "    obj.predict(reg, X_test, y_test)\n",
    "    print('---------Linear Regressor--------')\n",
    "    model = obj.cv_linReg(X_train, y_train)\n",
    "    reg = LinearRegression().set_params(**model).fit(X_train, y_train)\n",
    "    obj.predict(reg, X_test, y_test)\n",
    "    print('---------NN Regressor--------')\n",
    "    model = obj.cv_NNRegressor(X_train, y_train)\n",
    "    reg = MLPRegressor().set_params(**model).fit(X_train, y_train)\n",
    "    obj.predict(reg, X_test, y_test)\n",
    "    "
   ]
  }
 ],
 "metadata": {
  "kernelspec": {
   "display_name": "Python 3",
   "language": "python",
   "name": "python3"
  },
  "language_info": {
   "codemirror_mode": {
    "name": "ipython",
    "version": 3
   },
   "file_extension": ".py",
   "mimetype": "text/x-python",
   "name": "python",
   "nbconvert_exporter": "python",
   "pygments_lexer": "ipython3",
   "version": "3.7.3"
  }
 },
 "nbformat": 4,
 "nbformat_minor": 2
}
