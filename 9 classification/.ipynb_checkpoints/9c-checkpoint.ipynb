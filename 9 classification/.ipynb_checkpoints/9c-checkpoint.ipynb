{
 "cells": [
  {
   "cell_type": "code",
   "execution_count": 0,
   "metadata": {
    "colab": {},
    "colab_type": "code",
    "id": "gqWJAoZaUBW4"
   },
   "outputs": [],
   "source": [
    "import numpy as np\n",
    "from scipy.io import arff\n",
    "from io import StringIO\n",
    "import sklearn\n",
    "from sklearn import svm\n",
    "from sklearn.neighbors import KNeighborsClassifier\n",
    "from sklearn.tree import DecisionTreeClassifier\n",
    "from sklearn import preprocessing\n",
    "from sklearn.model_selection import RandomizedSearchCV\n",
    "from sklearn.model_selection import GridSearchCV\n",
    "from sklearn.ensemble import RandomForestClassifier\n",
    "from sklearn.ensemble import AdaBoostClassifier\n",
    "from sklearn.linear_model import LogisticRegression\n",
    "from sklearn.naive_bayes import GaussianNB\n",
    "from sklearn.neural_network import MLPClassifier\n",
    "from sklearn.preprocessing import StandardScaler\n",
    "from sklearn.exceptions import ConvergenceWarning\n",
    "import warnings\n",
    "from sklearn.exceptions import DataConversionWarning\n",
    "warnings.filterwarnings(action='ignore', category=DataConversionWarning)\n",
    "warnings.filterwarnings(\"ignore\", category=FutureWarning) \n",
    "warnings.filterwarnings(\"ignore\", category=DeprecationWarning)\n",
    "warnings.filterwarnings(\"ignore\", category=ConvergenceWarning)\n",
    "from sklearn.metrics import mean_squared_error\n",
    "import pandas as pd\n",
    "from sklearn.metrics import make_scorer\n"
   ]
  },
  {
   "cell_type": "code",
   "execution_count": 0,
   "metadata": {
    "colab": {},
    "colab_type": "code",
    "id": "Ofx6IZPfjxHc"
   },
   "outputs": [],
   "source": [
    "def read(a):\n",
    "  f = open(a,\"r\")\n",
    "  c = StringIO(f.read())\n",
    "  data, meta = arff.loadarff(c)\n",
    "  return data"
   ]
  },
  {
   "cell_type": "code",
   "execution_count": 0,
   "metadata": {
    "colab": {},
    "colab_type": "code",
    "id": "248odD7KUEA9"
   },
   "outputs": [],
   "source": [
    "def report(results, n_top=3):\n",
    "    for i in range(1, n_top + 1):\n",
    "        candidates = np.flatnonzero(results['rank_test_score'] == i)\n",
    "        j = 0\n",
    "        for candidate in candidates:\n",
    "            print(\"Model with rank: {0}\".format(i))\n",
    "            print(\"Mean validation score: {0:.3f} (std: {1:.3f})\".format(\n",
    "                  results['mean_test_score'][candidate],\n",
    "                  results['std_test_score'][candidate]))\n",
    "            print(\"Parameters: {0}\".format(results['params'][candidate]))\n",
    "            print(\"\")\n",
    "            if j > 1:\n",
    "                break\n",
    "            j+=1\n",
    "\n",
    "\n",
    "def remove_field(data, name):\n",
    "\tnames = list(data.dtype.names)\n",
    "\tif name in names:\n",
    "\t\tnames.remove(name)\n",
    "\treturn data[names]\n",
    "\n",
    "\n",
    "def randomCV(clf, X, y, param_grid, n_iter, cv):\n",
    "\trandom_search = RandomizedSearchCV(clf, param_distributions = param_grid,\n",
    "\t\t\t\t\tn_iter = n_iter, cv = cv, iid = False, n_jobs = -1)\n",
    "\trandom_search.fit(X, y)\n",
    "\treport(random_search.cv_results_)\n",
    "\treturn random_search.best_params_\t\n",
    "\n",
    "def KNN(X, y):\n",
    "\t\n",
    "\tneigh = KNeighborsClassifier()\n",
    "\tparam_grid = {\n",
    "\t\t\"n_neighbors\" : np.arange(1,20),\n",
    "\t\t\"algorithm\" : ['auto', 'ball_tree', 'kd_tree', 'brute'],\n",
    "\t\t\"weights\" : ['uniform', 'distance'],\n",
    "\t\t\"leaf_size\" : np.arange(1,60)\n",
    "\t}\n",
    "\treturn randomCV(neigh, X, y, param_grid, 400, 6)\n",
    "\n",
    "def SVM(X, y):\n",
    "\n",
    "#        C_grid = [0.1, 1, 10]\n",
    "#        gamma_grid = np.logspace(-2, 1, 4)[0:3]\n",
    "#        svm_C = svm.SVC(kernel='poly')\n",
    "#        param_grid = { 'C' : C_grid, 'gamma' : gamma_grid, \"kernel\" : ['poly', 'rbf', 'sigmoid'], }\n",
    "#        gridcv = GridSearchCV(svm_C, param_grid, verbose=1, cv=3)\n",
    "#        gridcv.fit(X, y)\n",
    "#        print(\"best parameters:\", gridcv.best_params_)\n",
    "#        print(\"%.1f%% accuracy on validation sets (average)\" % (gridcv.best_score_*100))\n",
    "\n",
    "\tsvm_C = svm.SVC()\n",
    "\tparam_grid = {\n",
    "\t\t\"kernel\" : ['linear', 'rbf', 'sigmoid'],\n",
    "\t\t\"gamma\" : ['scale', 'auto'],\n",
    "\t\t\"degree\" : np.arange(10),\n",
    "\t\t\"coef0\" : np.random.rand(60)*10,\n",
    "\t\t\"shrinking\" : [False, True],\n",
    "\t\t\"decision_function_shape\" : ['ovo','ovr']\n",
    "\t}\n",
    "\treturn randomCV(svm_C, X, y, param_grid, 4, 6)\n",
    "\n",
    "def DT(X, y):\n",
    "\tdt = DecisionTreeClassifier()\n",
    "\tparam_grid = {\n",
    "\t\t\"criterion\" : ['gini', 'entropy'],\n",
    "\t\t\"splitter\" : ['best', 'random'],\n",
    "\t\t\"min_samples_split\" : np.random.random_sample((100,)),\n",
    "\t\t\"max_features\" : ['auto', 'sqrt', 'log2', None],\n",
    "\t\t\"class_weight\" : [None, 'balanced'],\n",
    "\t\t\"presort\" : [True, False],\n",
    "\t\t\"min_samples_leaf\" : np.arange(1,6)\n",
    "\t}\n",
    "\treturn randomCV(dt, X, y, param_grid, 400, 6)\n",
    "\n",
    "def RF(X, y):\n",
    "\trf = RandomForestClassifier()\n",
    "\tparam_grid = {\n",
    "\t\t\"n_estimators\" : [10*x for x in np.arange(1,50)],\n",
    "\t\t\"criterion\" : ['gini', 'entropy'],\n",
    "\t\t\"min_samples_split\" : np.random.random_sample((100,)),\n",
    "\t\t\"max_features\" : ['auto', 'sqrt', 'log2', None],\n",
    "#\t\t\"class_weight\" : [None, 'balanced'],\n",
    "\t\t\"min_samples_leaf\" : np.arange(1,6),\n",
    "#\t\t\"bootstrap\" : [True, False],\n",
    "#\t\t\"oob_score\" : [True, False],\n",
    "\t\t\"warm_start\" : [True, False],\n",
    "\t}\n",
    "\treturn randomCV(rf, X, y, param_grid, 40, 6)\n",
    "\n",
    "def Ada(X, y):\n",
    "\tada = AdaBoostClassifier(algorithm = \"SAMME\")\n",
    "\tparam_grid = {\n",
    "#\t\t\"base_estimator\" : ['classes', 'n_classes_', None],\n",
    "\t\t\"n_estimators\" : [10*x for x in np.arange(1,50)]\n",
    "#\t\t\"learning_rate\" : [10*x for x in np.random.random_sample((100,))]\n",
    "#\t\t\"algorithm\" : ['SAMME']\n",
    "\t}\n",
    "\treturn randomCV(ada, X, y, param_grid, 40, 6)\n",
    "\n",
    "def LR(X, y):\n",
    "\tlr = LogisticRegression()\n",
    "\tparam_grid = {\n",
    "\t\t\"penalty\" : ['l1', 'l2'],\n",
    "#\t\t\"dual\" : [True, False],\n",
    "\t\t\"C\" : np.random.rand(60),\n",
    "\t\t\"fit_intercept\" : [True, False],\n",
    "\t\t\"warm_start\" : [True, False],\n",
    "\t\t\"multi_class\" : ['ovr', 'auto'],\n",
    "\t\t\"solver\" : [ 'liblinear']\n",
    "\t}\n",
    "\treturn randomCV(lr, X, y, param_grid, 400, 6)\n",
    "\n",
    "def GNB(X, y):\n",
    "\tgnb = GaussianNB()\n",
    "\tparam_grid = {\n",
    "\t\t\"var_smoothing\" : np.random.random_sample((100,))\n",
    "\t}\n",
    "\treturn randomCV(gnb, X, y, param_grid, 100, 6)\n",
    "\n",
    "def NN(X, y):\n",
    "\tnn = MLPClassifier()\n",
    "\tparam_grid = {\n",
    "\t\t\"hidden_layer_sizes\" : np.arange(2,200),\n",
    "\t\t\"activation\" : ['identity', 'logistic', 'tanh', 'relu'],\n",
    "\t\t\"solver\" : ['lbfgs', 'sgd', 'adam'],\n",
    "#\t\t\"verbose\" : [True, False],\n",
    "\t\t\"warm_start\" : [False, True]\n",
    "\t}\n",
    "\treturn randomCV(nn, X, y, param_grid, 200, 6)\n"
   ]
  },
  {
   "cell_type": "markdown",
   "metadata": {
    "colab_type": "text",
    "id": "ZD1Q6YX6lefC"
   },
   "source": []
  },
  {
   "cell_type": "code",
   "execution_count": 0,
   "metadata": {
    "colab": {},
    "colab_type": "code",
    "id": "-UhmoFZNUKaU"
   },
   "outputs": [],
   "source": [
    "\n",
    "data = read('9.arff')\n",
    "\n",
    "np.random.shuffle(data)\n",
    "\n",
    "y = data[data.dtype.names[-1]]\t\t\t\t\t\t\t\t\t\t\t\t\t\t# Separate target variable\n",
    "X = remove_field(data, data.dtype.names[-1])\n",
    "\n",
    "le = preprocessing.LabelEncoder()\t\t\t\t\t\t\t\t\t\t\t\t\t# Preprocessing\n",
    "\n",
    "x = np.empty_like(X[X.dtype.names[1]], dtype = 'float64')\n",
    "\n",
    "for i in X.dtype.names:\n",
    "\tif X[i].dtype != np.float64:\n",
    "\t\tX[i] = le.fit_transform(X[i])\n",
    "\t\tx = np.vstack((x, X[i].astype(np.float64)))\n",
    "\telse:\n",
    "\t\tx = np.vstack((x, X[i]))\n",
    "\n",
    "x = x[1:].T\n",
    "\n",
    "x_test, x_train = np.split(x, [70])\n",
    "y_test, y_train = np.split(y, [70])\n",
    "\n",
    "scaler = StandardScaler()                         # scaling features\n",
    "scaler.fit(x_train)\n",
    "x_train = scaler.transform(x_train)\n",
    "x_test = scaler.transform(x_test)"
   ]
  },
  {
   "cell_type": "code",
   "execution_count": 36,
   "metadata": {
    "colab": {
     "base_uri": "https://localhost:8080/",
     "height": 243
    },
    "colab_type": "code",
    "id": "ve2PJmDRk5Uh",
    "outputId": "7b5a8c54-bef5-4cc3-88ba-741b0a10c1c6"
   },
   "outputs": [
    {
     "name": "stdout",
     "output_type": "stream",
     "text": [
      "Model with rank: 1\n",
      "Mean validation score: 0.848 (std: 0.004)\n",
      "Parameters: {'weights': 'uniform', 'n_neighbors': 9, 'leaf_size': 12, 'algorithm': 'brute'}\n",
      "\n",
      "Model with rank: 1\n",
      "Mean validation score: 0.848 (std: 0.004)\n",
      "Parameters: {'weights': 'uniform', 'n_neighbors': 8, 'leaf_size': 6, 'algorithm': 'ball_tree'}\n",
      "\n",
      "Model with rank: 1\n",
      "Mean validation score: 0.848 (std: 0.004)\n",
      "Parameters: {'weights': 'uniform', 'n_neighbors': 13, 'leaf_size': 16, 'algorithm': 'ball_tree'}\n",
      "\n",
      "Score with test data 0.8714285714285714\n"
     ]
    }
   ],
   "source": [
    "# --------------------> KNN\n",
    "\n",
    "param = KNN(x_train,y_train)\n",
    "knn_c = KNeighborsClassifier().set_params(**param)\n",
    "knn_c.fit(x_train, y_train)\n",
    "\n",
    "print(\"Score with test data\",knn_c.score(x_test, y_test))"
   ]
  },
  {
   "cell_type": "code",
   "execution_count": 37,
   "metadata": {
    "colab": {
     "base_uri": "https://localhost:8080/",
     "height": 382
    },
    "colab_type": "code",
    "id": "PwuBI9Ucnte3",
    "outputId": "681de7a4-4472-4157-cda6-f961ad78f899"
   },
   "outputs": [
    {
     "name": "stdout",
     "output_type": "stream",
     "text": [
      "Model with rank: 1\n",
      "Mean validation score: 0.853 (std: 0.012)\n",
      "Parameters: {'splitter': 'random', 'presort': True, 'min_samples_split': 0.25827862455637507, 'min_samples_leaf': 3, 'max_features': 'auto', 'criterion': 'gini', 'class_weight': None}\n",
      "\n",
      "Model with rank: 2\n",
      "Mean validation score: 0.850 (std: 0.011)\n",
      "Parameters: {'splitter': 'best', 'presort': False, 'min_samples_split': 0.37032848533129137, 'min_samples_leaf': 1, 'max_features': 'log2', 'criterion': 'entropy', 'class_weight': None}\n",
      "\n",
      "Model with rank: 3\n",
      "Mean validation score: 0.850 (std: 0.002)\n",
      "Parameters: {'splitter': 'best', 'presort': True, 'min_samples_split': 0.8119781696359616, 'min_samples_leaf': 1, 'max_features': 'log2', 'criterion': 'entropy', 'class_weight': None}\n",
      "\n",
      "Model with rank: 3\n",
      "Mean validation score: 0.850 (std: 0.002)\n",
      "Parameters: {'splitter': 'best', 'presort': False, 'min_samples_split': 0.15757383924304402, 'min_samples_leaf': 4, 'max_features': 'log2', 'criterion': 'entropy', 'class_weight': None}\n",
      "\n",
      "Model with rank: 3\n",
      "Mean validation score: 0.850 (std: 0.002)\n",
      "Parameters: {'splitter': 'best', 'presort': True, 'min_samples_split': 0.7158064087384535, 'min_samples_leaf': 1, 'max_features': 'sqrt', 'criterion': 'entropy', 'class_weight': None}\n",
      "\n",
      "Score with test data 0.8714285714285714\n"
     ]
    }
   ],
   "source": [
    "# --------------------> Decision Tree\n",
    "\n",
    "param = DT(x_train,y_train)\n",
    "dt_c = DecisionTreeClassifier().set_params(**param)\n",
    "dt_c.fit(x_train, y_train)\n",
    "\n",
    "print(\"Score with test data\",dt_c.score(x_test, y_test))"
   ]
  },
  {
   "cell_type": "code",
   "execution_count": 38,
   "metadata": {
    "colab": {
     "base_uri": "https://localhost:8080/",
     "height": 243
    },
    "colab_type": "code",
    "id": "o91ChXZzrCr7",
    "outputId": "348787a6-17fd-4064-812f-b64e359fafc1"
   },
   "outputs": [
    {
     "name": "stdout",
     "output_type": "stream",
     "text": [
      "Model with rank: 1\n",
      "Mean validation score: 0.848 (std: 0.004)\n",
      "Parameters: {'warm_start': False, 'n_estimators': 390, 'min_samples_split': 0.22946752813048943, 'min_samples_leaf': 3, 'max_features': 'auto', 'criterion': 'entropy'}\n",
      "\n",
      "Model with rank: 1\n",
      "Mean validation score: 0.848 (std: 0.004)\n",
      "Parameters: {'warm_start': False, 'n_estimators': 70, 'min_samples_split': 0.47269581735621313, 'min_samples_leaf': 3, 'max_features': 'auto', 'criterion': 'entropy'}\n",
      "\n",
      "Model with rank: 1\n",
      "Mean validation score: 0.848 (std: 0.004)\n",
      "Parameters: {'warm_start': True, 'n_estimators': 50, 'min_samples_split': 0.0400753388780859, 'min_samples_leaf': 4, 'max_features': 'auto', 'criterion': 'entropy'}\n",
      "\n",
      "Score with test data 0.8714285714285714\n"
     ]
    }
   ],
   "source": [
    "# --------------------> Random Forest\n",
    "\n",
    "param = RF(x_train,y_train)\n",
    "rf_c = RandomForestClassifier().set_params(**param)\n",
    "rf_c.fit(x_train, y_train)\n",
    "\n",
    "print(\"Score with test data\",rf_c.score(x_test, y_test))"
   ]
  },
  {
   "cell_type": "code",
   "execution_count": 39,
   "metadata": {
    "colab": {
     "base_uri": "https://localhost:8080/",
     "height": 243
    },
    "colab_type": "code",
    "id": "uy3-zzVesozo",
    "outputId": "99a9a0c3-85b9-4ada-cf29-857b4b3eb83e"
   },
   "outputs": [
    {
     "name": "stdout",
     "output_type": "stream",
     "text": [
      "Model with rank: 1\n",
      "Mean validation score: 0.845 (std: 0.006)\n",
      "Parameters: {'n_estimators': 10}\n",
      "\n",
      "Model with rank: 2\n",
      "Mean validation score: 0.840 (std: 0.015)\n",
      "Parameters: {'n_estimators': 70}\n",
      "\n",
      "Model with rank: 2\n",
      "Mean validation score: 0.840 (std: 0.015)\n",
      "Parameters: {'n_estimators': 60}\n",
      "\n",
      "Score with test data 0.8285714285714286\n"
     ]
    }
   ],
   "source": [
    "# --------------------> Adaboost\n",
    "\n",
    "param = Ada(x_train,y_train)\n",
    "ada_c = AdaBoostClassifier().set_params(**param)\n",
    "ada_c.fit(x_train, y_train)\n",
    "\n",
    "print(\"Score with test data\",ada_c.score(x_test, y_test))"
   ]
  },
  {
   "cell_type": "code",
   "execution_count": 40,
   "metadata": {
    "colab": {
     "base_uri": "https://localhost:8080/",
     "height": 243
    },
    "colab_type": "code",
    "id": "4DGXAJ3es0TP",
    "outputId": "7eff567b-b235-45ba-a631-5b6e1d75d2cb"
   },
   "outputs": [
    {
     "name": "stdout",
     "output_type": "stream",
     "text": [
      "Model with rank: 1\n",
      "Mean validation score: 0.848 (std: 0.004)\n",
      "Parameters: {'warm_start': True, 'solver': 'liblinear', 'penalty': 'l1', 'multi_class': 'ovr', 'fit_intercept': True, 'C': 0.10341090010073939}\n",
      "\n",
      "Model with rank: 1\n",
      "Mean validation score: 0.848 (std: 0.004)\n",
      "Parameters: {'warm_start': True, 'solver': 'liblinear', 'penalty': 'l1', 'multi_class': 'auto', 'fit_intercept': True, 'C': 0.19092318858371737}\n",
      "\n",
      "Model with rank: 1\n",
      "Mean validation score: 0.848 (std: 0.004)\n",
      "Parameters: {'warm_start': True, 'solver': 'liblinear', 'penalty': 'l1', 'multi_class': 'auto', 'fit_intercept': True, 'C': 0.07972252148363357}\n",
      "\n",
      "Score with test data 0.8714285714285714\n"
     ]
    }
   ],
   "source": [
    "# ---------------------> Logistic regression\n",
    "\n",
    "param = LR(x_train,y_train)\n",
    "lr_c = LogisticRegression().set_params(**param)\n",
    "lr_c.fit(x_train, y_train)\n",
    "\n",
    "print(\"Score with test data\",lr_c.score(x_test, y_test))"
   ]
  },
  {
   "cell_type": "code",
   "execution_count": 41,
   "metadata": {
    "colab": {
     "base_uri": "https://localhost:8080/",
     "height": 382
    },
    "colab_type": "code",
    "id": "yOJ0MrtftHmP",
    "outputId": "6cbbfaba-d4e4-4166-f657-e52678be6610"
   },
   "outputs": [
    {
     "name": "stdout",
     "output_type": "stream",
     "text": [
      "Model with rank: 1\n",
      "Mean validation score: 0.805 (std: 0.030)\n",
      "Parameters: {'var_smoothing': 0.9877278745637731}\n",
      "\n",
      "Model with rank: 1\n",
      "Mean validation score: 0.805 (std: 0.030)\n",
      "Parameters: {'var_smoothing': 0.9821536153589023}\n",
      "\n",
      "Model with rank: 3\n",
      "Mean validation score: 0.805 (std: 0.029)\n",
      "Parameters: {'var_smoothing': 0.9646156288740352}\n",
      "\n",
      "Model with rank: 3\n",
      "Mean validation score: 0.805 (std: 0.029)\n",
      "Parameters: {'var_smoothing': 0.9748647925118005}\n",
      "\n",
      "Model with rank: 3\n",
      "Mean validation score: 0.805 (std: 0.029)\n",
      "Parameters: {'var_smoothing': 0.9708632605710694}\n",
      "\n",
      "Score with test data 0.8428571428571429\n"
     ]
    }
   ],
   "source": [
    "# ---------------------> Gaussian NB\n",
    "\n",
    "param = GNB(x_train,y_train)\n",
    "gnb_c = GaussianNB().set_params(**param)\n",
    "gnb_c.fit(x_train, y_train)\n",
    "\n",
    "print(\"Score with test data\",gnb_c.score(x_test, y_test))"
   ]
  },
  {
   "cell_type": "code",
   "execution_count": 42,
   "metadata": {
    "colab": {
     "base_uri": "https://localhost:8080/",
     "height": 382
    },
    "colab_type": "code",
    "id": "yfVb4z7CUNui",
    "outputId": "b5a21e54-e8b1-420e-9c17-3c0c3d05ba6c"
   },
   "outputs": [
    {
     "name": "stdout",
     "output_type": "stream",
     "text": [
      "Model with rank: 1\n",
      "Mean validation score: 0.850 (std: 0.007)\n",
      "Parameters: {'warm_start': False, 'solver': 'sgd', 'hidden_layer_sizes': 21, 'activation': 'relu'}\n",
      "\n",
      "Model with rank: 2\n",
      "Mean validation score: 0.850 (std: 0.008)\n",
      "Parameters: {'warm_start': False, 'solver': 'sgd', 'hidden_layer_sizes': 14, 'activation': 'relu'}\n",
      "\n",
      "Model with rank: 3\n",
      "Mean validation score: 0.848 (std: 0.004)\n",
      "Parameters: {'warm_start': False, 'solver': 'sgd', 'hidden_layer_sizes': 47, 'activation': 'logistic'}\n",
      "\n",
      "Model with rank: 3\n",
      "Mean validation score: 0.848 (std: 0.004)\n",
      "Parameters: {'warm_start': True, 'solver': 'sgd', 'hidden_layer_sizes': 182, 'activation': 'relu'}\n",
      "\n",
      "Model with rank: 3\n",
      "Mean validation score: 0.848 (std: 0.004)\n",
      "Parameters: {'warm_start': True, 'solver': 'sgd', 'hidden_layer_sizes': 138, 'activation': 'tanh'}\n",
      "\n",
      "Score with test data 0.8714285714285714\n"
     ]
    }
   ],
   "source": [
    "# ---------------------> Neural Network\n",
    "\n",
    "param = NN(x_train,y_train)\n",
    "nn_c = MLPClassifier().set_params(**param)\n",
    "nn_c.fit(x_train, y_train)\n",
    "\n",
    "print(\"Score with test data\",nn_c.score(x_test, y_test))"
   ]
  },
  {
   "cell_type": "code",
   "execution_count": 43,
   "metadata": {
    "colab": {
     "base_uri": "https://localhost:8080/",
     "height": 243
    },
    "colab_type": "code",
    "id": "pDGqnUepURTl",
    "outputId": "815f6b5d-0148-4374-91d2-61cd8a536ebe"
   },
   "outputs": [
    {
     "name": "stdout",
     "output_type": "stream",
     "text": [
      "Model with rank: 1\n",
      "Mean validation score: 0.848 (std: 0.004)\n",
      "Parameters: {'shrinking': False, 'kernel': 'sigmoid', 'gamma': 'auto', 'degree': 5, 'decision_function_shape': 'ovo', 'coef0': 8.380094381471944}\n",
      "\n",
      "Model with rank: 1\n",
      "Mean validation score: 0.848 (std: 0.004)\n",
      "Parameters: {'shrinking': False, 'kernel': 'sigmoid', 'gamma': 'scale', 'degree': 2, 'decision_function_shape': 'ovo', 'coef0': 4.234195903371953}\n",
      "\n",
      "Model with rank: 1\n",
      "Mean validation score: 0.848 (std: 0.004)\n",
      "Parameters: {'shrinking': True, 'kernel': 'sigmoid', 'gamma': 'auto', 'degree': 5, 'decision_function_shape': 'ovo', 'coef0': 2.881966300202489}\n",
      "\n",
      "Score with test data 0.8714285714285714\n"
     ]
    }
   ],
   "source": [
    "\n",
    "## --------------------> SVM\n",
    "\n",
    "param = SVM(x_train,y_train)\n",
    "svm_c = svm.SVC().set_params(**param)\n",
    "svm_c.fit(x_train, y_train)\n",
    "\n",
    "print(\"Score with test data\",svm_c.score(x_test, y_test))"
   ]
  }
 ],
 "metadata": {
  "colab": {
   "collapsed_sections": [],
   "name": "9c.ipynb",
   "provenance": []
  },
  "kernelspec": {
   "display_name": "Python 3",
   "language": "python",
   "name": "python3"
  },
  "language_info": {
   "codemirror_mode": {
    "name": "ipython",
    "version": 3
   },
   "file_extension": ".py",
   "mimetype": "text/x-python",
   "name": "python",
   "nbconvert_exporter": "python",
   "pygments_lexer": "ipython3",
   "version": "3.7.3"
  }
 },
 "nbformat": 4,
 "nbformat_minor": 1
}
