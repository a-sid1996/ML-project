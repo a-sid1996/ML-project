{
 "cells": [
  {
   "cell_type": "code",
   "execution_count": 33,
   "metadata": {
    "colab": {},
    "colab_type": "code",
    "id": "7qf8VLSeYLn-"
   },
   "outputs": [],
   "source": [
    "import numpy as np\n",
    "from scipy.io import arff\n",
    "from io import StringIO\n",
    "import sklearn\n",
    "from sklearn import svm\n",
    "from sklearn.neighbors import KNeighborsClassifier\n",
    "from sklearn.tree import DecisionTreeRegressor\n",
    "from sklearn import preprocessing\n",
    "from sklearn.model_selection import RandomizedSearchCV\n",
    "from sklearn.model_selection import GridSearchCV\n",
    "from sklearn.ensemble import RandomForestRegressor\n",
    "from sklearn.ensemble import AdaBoostRegressor\n",
    "from sklearn.linear_model import LinearRegression\n",
    "from sklearn.gaussian_process import GaussianProcessRegressor\n",
    "from sklearn.gaussian_process.kernels import RBF, WhiteKernel\n",
    "from sklearn.neural_network import MLPRegressor\n",
    "from sklearn.preprocessing import StandardScaler\n",
    "from sklearn.exceptions import ConvergenceWarning\n",
    "import warnings\n",
    "from sklearn.exceptions import DataConversionWarning\n",
    "warnings.filterwarnings(action='ignore', category=DataConversionWarning)\n",
    "warnings.filterwarnings(\"ignore\", category=FutureWarning) \n",
    "warnings.filterwarnings(\"ignore\", category=DeprecationWarning)\n",
    "warnings.filterwarnings(\"ignore\", category=ConvergenceWarning)\n",
    "from sklearn.metrics import mean_squared_error"
   ]
  },
  {
   "cell_type": "code",
   "execution_count": 34,
   "metadata": {
    "colab": {},
    "colab_type": "code",
    "id": "8al_S_doZbzt"
   },
   "outputs": [],
   "source": [
    "def read(a):\n",
    "  f = open(a, \"r\")\n",
    "  c = StringIO(f.read())\n",
    "  return np.loadtxt(c, delimiter=',')"
   ]
  },
  {
   "cell_type": "code",
   "execution_count": 35,
   "metadata": {
    "colab": {},
    "colab_type": "code",
    "id": "er8fGCularpX"
   },
   "outputs": [],
   "source": [
    "def report(results, n_top=3):\n",
    "    for i in range(1, n_top + 1):\n",
    "        candidates = np.flatnonzero(results['rank_test_score'] == i)\n",
    "        j = 0\n",
    "        for candidate in candidates:\n",
    "            print(\"Model with rank: {0}\".format(i))\n",
    "            print(\"Mean validation score: {0:.3f} (std: {1:.3f})\".format(\n",
    "                  results['mean_test_score'][candidate],\n",
    "                  results['std_test_score'][candidate]))\n",
    "            print(\"Parameters: {0}\".format(results['params'][candidate]))\n",
    "            print(\"\")\n",
    "            if j > 1:\n",
    "                break\n",
    "            j+=1\n",
    "\n",
    "\n",
    "def randomCV(clf, X, y, param_grid, n_iter, cv):\n",
    "    random_search = RandomizedSearchCV(clf, param_distributions = param_grid,\n",
    "          n_iter = n_iter, cv = cv, iid = False)\n",
    "    random_search.fit(X, y)\n",
    "    report(random_search.cv_results_)\n",
    "    return random_search.best_params_\n",
    "\n",
    "def Rf(x, y):\n",
    "  clf = RandomForestRegressor()\n",
    "  param_grid = {\n",
    "        \"n_estimators\" : np.arange(2,50),\n",
    "        \"max_depth\" : np.arange(1,6),\n",
    "\n",
    "    # \"criterion\" : ['mse', 'mae'],\n",
    "    # \"min_samples_split\" : np.random.random_sample((100,)),      \n",
    "    # \"min_samples_split\" : np.linspace(0.01,1, num = 1000),\n",
    "    # \"min_samples_leaf\" : np.linspace(0.01,0.5, num = 100),\n",
    "    # \"bootstrap\" : [True, False],\n",
    "    # \"warm_start\" : [True, False]\n",
    "  }\n",
    "  return randomCV(clf, x, y, param_grid, 50, 6)  \n",
    "\n",
    "\n",
    "def Dt(x, y):\n",
    "  clf = DecisionTreeRegressor()\n",
    "  param_grid = {\n",
    "      \"max_depth\" : np.arange(1,6),\n",
    "      \"min_samples_split\" : np.linspace(0.01,0.5, num = 1000),\n",
    "      \"min_samples_leaf\" : np.linspace(0.01,0.5, num = 1000),\n",
    "\n",
    "      # \"criterion\" : ['mse', 'mae', 'friedman_mse'],\n",
    "      # \"splitter\" : ['best', 'random'],\n",
    "  }\n",
    "  return randomCV(clf, x, y, param_grid, 400, 6)  \n",
    "\n",
    "def Svr(x, y):\n",
    "  clf = svm.SVR()\n",
    "  param_grid = {\n",
    "      \"kernel\" : ['poly', 'rbf', 'linear', 'sigmoid'],\n",
    "      \"gamma\" : ['scale', 'auto'],\n",
    "      \"shrinking\" : [True, False]\n",
    "  }\n",
    "  return randomCV(clf, x, y, param_grid, 4, 6)\n",
    "\n",
    "def Ada(x, y):\n",
    "  clf = AdaBoostRegressor()\n",
    "  param_grid = {\n",
    "      \"n_estimators\" : np.arange(1,100),\n",
    "      \"loss\" : ['linear', 'square', 'exponential'],\n",
    "      # \"learning_rate\" : np.arange(1,)\n",
    "  }\n",
    "  return randomCV(clf, x, y, param_grid, 250, 6)\n",
    "\n",
    "def GP(x, y):\n",
    "  clf = GaussianProcessRegressor()\n",
    "  param_grid = {\n",
    "#       \"kernel\" : ['RBF', 'WhiteKernel'],\n",
    "      \"normalize_y\" : [True, False],\n",
    "      \"copy_X_train\" : [True, False],\n",
    "      \"alpha\" : np.linspace(0, 5, 100),\n",
    "      \n",
    "  }\n",
    "  return randomCV(clf, x, y, param_grid, 25, 6)\n",
    "\n",
    "def LR(x, y):\n",
    "  clf = LinearRegression()\n",
    "  param_grid = {\n",
    "      \"fit_intercept\" : [True, False],\n",
    "      \"normalize\" : [True, False],\n",
    "      \"copy_X\" : [True, False],\n",
    "  }\n",
    "  return randomCV(clf, x, y, param_grid, 25, 6)\n",
    "\n",
    "def NN(x, y):\n",
    "  clf = MLPRegressor()\n",
    "  param_grid = {\n",
    "      \"hidden_layer_sizes\" : np.arange(1,200),\n",
    "      \"activation\" : ['identity', 'logistic', 'tanh', 'relu'],\n",
    "      \"solver\" : ['lbfgs', 'sgd', 'adam'],\n",
    "      \"learning_rate\" : ['constant', 'invscaling', 'adaptive'],\n",
    "      \"shuffle\" : [True, False],\n",
    "  }\n",
    "  return randomCV(clf, x, y, param_grid, 30, 6)"
   ]
  },
  {
   "cell_type": "code",
   "execution_count": 45,
   "metadata": {
    "colab": {},
    "colab_type": "code",
    "id": "9z8j-SAEZuhA"
   },
   "outputs": [
    {
     "name": "stdout",
     "output_type": "stream",
     "text": [
      "(100, 27)\n"
     ]
    }
   ],
   "source": [
    "data = read(\"4train.txt\")       # read data\n",
    "data = data[:,1:]                                 # remove id\n",
    "\n",
    "np.random.shuffle(data)                           # shuffle for fairness\n",
    "\n",
    "y = data[:,-2:-1]                                 # separating prediction var\n",
    "x = data[:,0:data.shape[1] -1]\n",
    "\n",
    "x_train, x_test = np.split(x, [940])              # separating test data\n",
    "y_train, y_test = np.split(y, [940])\n",
    "\n",
    "print(x_test.shape)\n",
    "\n",
    "scaler = StandardScaler()                         # scaling features\n",
    "scaler.fit(x_train)\n",
    "x_train = scaler.transform(x_train)\n",
    "x_test = scaler.transform(x_test)"
   ]
  },
  {
   "cell_type": "code",
   "execution_count": 37,
   "metadata": {
    "colab": {},
    "colab_type": "code",
    "id": "ruGGb58715ba"
   },
   "outputs": [
    {
     "name": "stdout",
     "output_type": "stream",
     "text": [
      "Model with rank: 1\n",
      "Mean validation score: 0.993 (std: 0.001)\n",
      "Parameters: {'min_samples_split': 0.055615615615615614, 'min_samples_leaf': 0.013923923923923925, 'max_depth': 3}\n",
      "\n",
      "Model with rank: 2\n",
      "Mean validation score: 0.992 (std: 0.001)\n",
      "Parameters: {'min_samples_split': 0.09289289289289288, 'min_samples_leaf': 0.03207207207207207, 'max_depth': 5}\n",
      "\n",
      "Model with rank: 3\n",
      "Mean validation score: 0.981 (std: 0.003)\n",
      "Parameters: {'min_samples_split': 0.07327327327327327, 'min_samples_leaf': 0.054144144144144146, 'max_depth': 4}\n",
      "\n",
      "RMSE on test data :  1.895976776983779\n",
      "Score with test data 0.9931361293921208\n"
     ]
    }
   ],
   "source": [
    "# ---------------> \n",
    "param = Dt(x_train, y_train)\n",
    "reg_tree = DecisionTreeRegressor().set_params(**param)\n",
    "reg_tree.fit(x_train, y_train)\n",
    "prediction = reg_tree.predict(x_test)\n",
    "\n",
    "rmse = mean_squared_error(y_test, prediction)\n",
    "print(\"RMSE on test data : \", rmse)\n",
    "\n",
    "print(\"Score with test data\",reg_tree.score(x_test, y_test))\n"
   ]
  },
  {
   "cell_type": "code",
   "execution_count": 38,
   "metadata": {
    "colab": {
     "base_uri": "https://localhost:8080/",
     "height": 1000
    },
    "colab_type": "code",
    "id": "Yf5kxGVC18hT",
    "outputId": "b41b2c0d-a161-4308-895e-c7b972398b44"
   },
   "outputs": [
    {
     "name": "stdout",
     "output_type": "stream",
     "text": [
      "Model with rank: 1\n",
      "Mean validation score: 1.000 (std: 0.000)\n",
      "Parameters: {'n_estimators': 38, 'max_depth': 5}\n",
      "\n",
      "Model with rank: 2\n",
      "Mean validation score: 1.000 (std: 0.000)\n",
      "Parameters: {'n_estimators': 30, 'max_depth': 5}\n",
      "\n",
      "Model with rank: 3\n",
      "Mean validation score: 1.000 (std: 0.000)\n",
      "Parameters: {'n_estimators': 35, 'max_depth': 5}\n",
      "\n",
      "RMSE on test data :  0.017278439660749503\n",
      "Score with test data 0.9931361293921208\n"
     ]
    }
   ],
   "source": [
    "# --------------->\n",
    "param = Rf(x_train, y_train)\n",
    "reg_rf = RandomForestRegressor().set_params(**param)\n",
    "reg_rf.fit(x_train, y_train)\n",
    "prediction = reg_rf.predict(x_test)\n",
    "\n",
    "rmse = mean_squared_error(y_test, prediction)\n",
    "print(\"RMSE on test data : \", rmse)\n",
    "\n",
    "print(\"Score with test data\",reg_tree.score(x_test, y_test))\n"
   ]
  },
  {
   "cell_type": "code",
   "execution_count": 39,
   "metadata": {
    "colab": {
     "base_uri": "https://localhost:8080/",
     "height": 384
    },
    "colab_type": "code",
    "id": "yCzfGFNv1_kk",
    "outputId": "0a8eaaea-7f45-41ad-e2de-a443abb4559b"
   },
   "outputs": [
    {
     "name": "stdout",
     "output_type": "stream",
     "text": [
      "Model with rank: 1\n",
      "Mean validation score: 1.000 (std: 0.000)\n",
      "Parameters: {'n_estimators': 87, 'loss': 'exponential'}\n",
      "\n",
      "Model with rank: 2\n",
      "Mean validation score: 1.000 (std: 0.000)\n",
      "Parameters: {'n_estimators': 93, 'loss': 'exponential'}\n",
      "\n",
      "Model with rank: 3\n",
      "Mean validation score: 1.000 (std: 0.000)\n",
      "Parameters: {'n_estimators': 66, 'loss': 'exponential'}\n",
      "\n",
      "RMSE on test data :  0.09623227885423638\n",
      "Score with test data 0.9996516170881546\n"
     ]
    }
   ],
   "source": [
    "# --------------->\n",
    "param = Ada(x_train, y_train)\n",
    "reg_ada = AdaBoostRegressor().set_params(**param)\n",
    "reg_ada.fit(x_train, y_train)\n",
    "prediction = reg_ada.predict(x_test)\n",
    "\n",
    "rmse = mean_squared_error(y_test, prediction)\n",
    "print(\"RMSE on test data : \", rmse)\n",
    "\n",
    "print(\"Score with test data\",reg_ada.score(x_test, y_test))\n"
   ]
  },
  {
   "cell_type": "code",
   "execution_count": 40,
   "metadata": {
    "colab": {
     "base_uri": "https://localhost:8080/",
     "height": 141
    },
    "colab_type": "code",
    "id": "-yWxq9h_2CI0",
    "outputId": "dac2e8b9-5d41-4e28-d9b4-49d8292e36a8"
   },
   "outputs": [
    {
     "name": "stdout",
     "output_type": "stream",
     "text": [
      "Model with rank: 1\n",
      "Mean validation score: 0.403 (std: 0.027)\n",
      "Parameters: {'normalize_y': True, 'copy_X_train': False, 'alpha': 0.9090909090909091}\n",
      "\n",
      "Model with rank: 2\n",
      "Mean validation score: 0.364 (std: 0.025)\n",
      "Parameters: {'normalize_y': True, 'copy_X_train': False, 'alpha': 1.4141414141414141}\n",
      "\n",
      "Model with rank: 3\n",
      "Mean validation score: 0.360 (std: 0.024)\n",
      "Parameters: {'normalize_y': True, 'copy_X_train': True, 'alpha': 1.4646464646464645}\n",
      "\n",
      "RMSE on test data :  140.1745763937787\n",
      "Score with test data 0.49253589676779164\n"
     ]
    }
   ],
   "source": [
    "# --------------->\n",
    "param = GP(x_train, y_train)\n",
    "reg_gp = GaussianProcessRegressor().set_params(**param)\n",
    "reg_gp.fit(x_train, y_train)\n",
    "prediction = reg_gp.predict(x_test)\n",
    "\n",
    "rmse = mean_squared_error(y_test, prediction)\n",
    "print(\"RMSE on test data : \", rmse)\n",
    "\n",
    "print(\"Score with test data\",reg_gp.score(x_test, y_test))\n"
   ]
  },
  {
   "cell_type": "code",
   "execution_count": 41,
   "metadata": {
    "colab": {
     "base_uri": "https://localhost:8080/",
     "height": 627
    },
    "colab_type": "code",
    "id": "MTcjzFYs2GLR",
    "outputId": "82b254d4-0a05-4e30-91da-bbf90a518aca"
   },
   "outputs": [
    {
     "name": "stdout",
     "output_type": "stream",
     "text": [
      "Model with rank: 1\n",
      "Mean validation score: 1.000 (std: 0.000)\n",
      "Parameters: {'normalize': True, 'fit_intercept': True, 'copy_X': True}\n",
      "\n",
      "Model with rank: 1\n",
      "Mean validation score: 1.000 (std: 0.000)\n",
      "Parameters: {'normalize': False, 'fit_intercept': True, 'copy_X': True}\n",
      "\n",
      "Model with rank: 1\n",
      "Mean validation score: 1.000 (std: 0.000)\n",
      "Parameters: {'normalize': True, 'fit_intercept': True, 'copy_X': False}\n",
      "\n",
      "Model with rank: 1\n",
      "Mean validation score: 1.000 (std: 0.000)\n",
      "Parameters: {'normalize': False, 'fit_intercept': True, 'copy_X': False}\n",
      "\n",
      "RMSE on test data :  6.46392625738097e-29\n",
      "Score with test data 1.0\n"
     ]
    },
    {
     "name": "stderr",
     "output_type": "stream",
     "text": [
      "/home/sid/miniconda3/lib/python3.7/site-packages/sklearn/model_selection/_search.py:266: UserWarning: The total space of parameters 8 is smaller than n_iter=25. Running 8 iterations. For exhaustive searches, use GridSearchCV.\n",
      "  % (grid_size, self.n_iter, grid_size), UserWarning)\n"
     ]
    }
   ],
   "source": [
    "# --------------->\n",
    "param = LR(x_train, y_train)\n",
    "reg_lr = LinearRegression().set_params(**param)\n",
    "reg_lr.fit(x_train, y_train)\n",
    "prediction = reg_lr.predict(x_test)\n",
    "\n",
    "rmse = mean_squared_error(y_test, prediction)\n",
    "print(\"RMSE on test data : \", rmse)\n",
    "\n",
    "print(\"Score with test data\",reg_lr.score(x_test, y_test))\n"
   ]
  },
  {
   "cell_type": "code",
   "execution_count": 42,
   "metadata": {
    "colab": {
     "base_uri": "https://localhost:8080/",
     "height": 1000
    },
    "colab_type": "code",
    "id": "RBP39Cbm2IuX",
    "outputId": "72aafeb3-e769-4858-d570-67044d71ec7a"
   },
   "outputs": [
    {
     "name": "stdout",
     "output_type": "stream",
     "text": [
      "Model with rank: 1\n",
      "Mean validation score: 1.000 (std: 0.000)\n",
      "Parameters: {'solver': 'lbfgs', 'shuffle': False, 'learning_rate': 'adaptive', 'hidden_layer_sizes': 72, 'activation': 'identity'}\n",
      "\n",
      "Model with rank: 2\n",
      "Mean validation score: 1.000 (std: 0.000)\n",
      "Parameters: {'solver': 'lbfgs', 'shuffle': True, 'learning_rate': 'invscaling', 'hidden_layer_sizes': 35, 'activation': 'identity'}\n",
      "\n",
      "Model with rank: 3\n",
      "Mean validation score: 1.000 (std: 0.000)\n",
      "Parameters: {'solver': 'adam', 'shuffle': False, 'learning_rate': 'constant', 'hidden_layer_sizes': 198, 'activation': 'identity'}\n",
      "\n",
      "RMSE on test data :  1.5271366912678248e-07\n",
      "Score with test data 0.9999999994471415\n"
     ]
    }
   ],
   "source": [
    "# # --------------->\n",
    "param = NN(x_train, y_train)\n",
    "reg_nn = MLPRegressor().set_params(**param)\n",
    "reg_nn.fit(x_train, y_train)\n",
    "\n",
    "prediction = reg_nn.predict(x_test)\n",
    "\n",
    "rmse = mean_squared_error(y_test, prediction)\n",
    "\n",
    "print(\"RMSE on test data : \", rmse)\n",
    "print(\"Score with test data\",reg_nn.score(x_test, y_test))"
   ]
  },
  {
   "cell_type": "code",
   "execution_count": 43,
   "metadata": {
    "colab": {},
    "colab_type": "code",
    "id": "9i7BVQ5Z11vn"
   },
   "outputs": [
    {
     "name": "stdout",
     "output_type": "stream",
     "text": [
      "Model with rank: 1\n",
      "Mean validation score: 1.000 (std: 0.000)\n",
      "Parameters: {'shrinking': False, 'kernel': 'linear', 'gamma': 'auto'}\n",
      "\n",
      "Model with rank: 2\n",
      "Mean validation score: 0.361 (std: 0.211)\n",
      "Parameters: {'shrinking': True, 'kernel': 'sigmoid', 'gamma': 'auto'}\n",
      "\n",
      "Model with rank: 3\n",
      "Mean validation score: 0.247 (std: 0.084)\n",
      "Parameters: {'shrinking': True, 'kernel': 'poly', 'gamma': 'auto'}\n",
      "\n",
      "Model with rank: 3\n",
      "Mean validation score: 0.247 (std: 0.084)\n",
      "Parameters: {'shrinking': False, 'kernel': 'poly', 'gamma': 'auto'}\n",
      "\n",
      "RMSE on test data :  0.006296609433694639\n",
      "Score with test data 0.9999772048302775\n"
     ]
    }
   ],
   "source": [
    "# ---------------> Support vector regression\n",
    "param = Svr(x_train, y_train)\n",
    "reg_nn = svm.SVR().set_params(**param)\n",
    "reg_nn.fit(x_train, y_train)\n",
    "\n",
    "prediction = reg_nn.predict(x_test)\n",
    "\n",
    "rmse = mean_squared_error(y_test, prediction)\n",
    "\n",
    "print(\"RMSE on test data : \", rmse)\n",
    "print(\"Score with test data\",reg_nn.score(x_test, y_test))\n"
   ]
  }
 ],
 "metadata": {
  "accelerator": "GPU",
  "colab": {
   "collapsed_sections": [],
   "name": "4r.ipynb",
   "provenance": []
  },
  "kernelspec": {
   "display_name": "Python 3",
   "language": "python",
   "name": "python3"
  },
  "language_info": {
   "codemirror_mode": {
    "name": "ipython",
    "version": 3
   },
   "file_extension": ".py",
   "mimetype": "text/x-python",
   "name": "python",
   "nbconvert_exporter": "python",
   "pygments_lexer": "ipython3",
   "version": "3.7.3"
  }
 },
 "nbformat": 4,
 "nbformat_minor": 1
}
