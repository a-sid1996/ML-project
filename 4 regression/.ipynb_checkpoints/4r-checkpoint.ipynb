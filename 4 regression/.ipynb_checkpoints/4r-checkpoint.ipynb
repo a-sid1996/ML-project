{
 "cells": [
  {
   "cell_type": "code",
   "execution_count": 1,
   "metadata": {
    "colab": {},
    "colab_type": "code",
    "id": "7qf8VLSeYLn-"
   },
   "outputs": [],
   "source": [
    "import numpy as np\n",
    "from scipy.io import arff\n",
    "from io import StringIO\n",
    "import sklearn\n",
    "from sklearn import svm\n",
    "from sklearn.neighbors import KNeighborsClassifier\n",
    "from sklearn.tree import DecisionTreeRegressor\n",
    "from sklearn import preprocessing\n",
    "from sklearn.model_selection import RandomizedSearchCV\n",
    "from sklearn.model_selection import GridSearchCV\n",
    "from sklearn.ensemble import RandomForestRegressor\n",
    "from sklearn.ensemble import AdaBoostRegressor\n",
    "from sklearn.linear_model import LinearRegression\n",
    "from sklearn.gaussian_process import GaussianProcessRegressor\n",
    "from sklearn.gaussian_process.kernels import RBF, WhiteKernel\n",
    "from sklearn.neural_network import MLPRegressor\n",
    "from sklearn.preprocessing import StandardScaler\n",
    "from sklearn.exceptions import ConvergenceWarning\n",
    "import warnings\n",
    "from sklearn.exceptions import DataConversionWarning\n",
    "warnings.filterwarnings(action='ignore', category=DataConversionWarning)\n",
    "warnings.filterwarnings(\"ignore\", category=FutureWarning) \n",
    "warnings.filterwarnings(\"ignore\", category=DeprecationWarning)\n",
    "warnings.filterwarnings(\"ignore\", category=ConvergenceWarning)\n",
    "from sklearn.metrics import mean_squared_error"
   ]
  },
  {
   "cell_type": "code",
   "execution_count": 2,
   "metadata": {
    "colab": {},
    "colab_type": "code",
    "id": "8al_S_doZbzt"
   },
   "outputs": [],
   "source": [
    "def read(a):\n",
    "  f = open(a, \"r\")\n",
    "  c = StringIO(f.read())\n",
    "  return np.loadtxt(c, delimiter=',')"
   ]
  },
  {
   "cell_type": "code",
   "execution_count": 38,
   "metadata": {
    "colab": {},
    "colab_type": "code",
    "id": "er8fGCularpX"
   },
   "outputs": [],
   "source": [
    "def report(results, n_top=3):\n",
    "    print(\"\\n\\n\\n\\n\\n\")\n",
    "    for i in range(1, n_top + 1):\n",
    "        candidates = np.flatnonzero(results['rank_test_score'] == i)\n",
    "        j = 0\n",
    "        for candidate in candidates:\n",
    "            print(\"Model with rank: {0}\".format(i))\n",
    "            print(\"Mean validation score: {0:.3f} (std: {1:.3f})\".format(\n",
    "                  results['mean_test_score'][candidate],\n",
    "                  results['std_test_score'][candidate]))\n",
    "            print(\"Parameters: {0}\".format(results['params'][candidate]))\n",
    "            print(\"\")\n",
    "            if j > 1:\n",
    "                break\n",
    "            j+=1\n",
    "\n",
    "\n",
    "def randomCV(clf, X, y, param_grid, n_iter, cv):\n",
    "    random_search = RandomizedSearchCV(clf, param_distributions = param_grid,\n",
    "          n_iter = n_iter, cv = cv, iid = False, n_jobs = -1)\n",
    "    random_search.fit(X, y)\n",
    "    report(random_search.cv_results_)\n",
    "    return random_search.best_params_\n",
    "\n",
    "def Rf(x, y):\n",
    "  clf = RandomForestRegressor()\n",
    "  param_grid = {\n",
    "        \"n_estimators\" : np.arange(2,50),\n",
    "        \"max_depth\" : np.arange(1,6),\n",
    "\n",
    "    \"criterion\" : ['mse', 'mae'],\n",
    "    \"min_samples_split\" : np.random.random_sample((100,)),      \n",
    "    \"min_samples_split\" : np.linspace(0.01,1, num = 1000),\n",
    "    \"min_samples_leaf\" : np.linspace(0.01,0.5, num = 100),\n",
    "    \"bootstrap\" : [True, False],\n",
    "    \"warm_start\" : [True, False]\n",
    "  }\n",
    "  return randomCV(clf, x, y, param_grid, 400, 6)  \n",
    "\n",
    "\n",
    "def Dt(x, y):\n",
    "  clf = DecisionTreeRegressor()\n",
    "  param_grid = {\n",
    "      \"max_depth\" : np.arange(1,6),\n",
    "      \"min_samples_split\" : np.linspace(0.01,0.5, num = 1000),\n",
    "      \"min_samples_leaf\" : np.linspace(0.01,0.5, num = 1000),\n",
    "      \"criterion\" : ['mse', 'mae', 'friedman_mse'],\n",
    "      \"splitter\" : ['best', 'random'],\n",
    "  }\n",
    "  return randomCV(clf, x, y, param_grid, 400, 6)  \n",
    "\n",
    "def Svr(x, y):\n",
    "  clf = svm.SVR()\n",
    "  param_grid = {\n",
    "      \"kernel\" : ['poly', 'rbf', 'linear', 'sigmoid'],\n",
    "      \"gamma\" : ['scale', 'auto'],\n",
    "      \"shrinking\" : [True, False]\n",
    "  }\n",
    "  return randomCV(clf, x, y, param_grid, 15, 6)\n",
    "\n",
    "def Ada(x, y):\n",
    "  clf = AdaBoostRegressor()\n",
    "  param_grid = {\n",
    "      \"n_estimators\" : np.arange(1,100),\n",
    "      \"loss\" : ['linear', 'square', 'exponential'],\n",
    "      # \"learning_rate\" : np.arange(1,)\n",
    "  }\n",
    "  return randomCV(clf, x, y, param_grid, 250, 6)\n",
    "\n",
    "def GP(x, y):\n",
    "  clf = GaussianProcessRegressor()\n",
    "  param_grid = {\n",
    "#       \"kernel\" : ['RBF', 'WhiteKernel'],\n",
    "      \"normalize_y\" : [True, False],\n",
    "      \"copy_X_train\" : [True, False],\n",
    "      \"alpha\" : np.linspace(0, 5, 100),\n",
    "      \n",
    "  }\n",
    "  return randomCV(clf, x, y, param_grid, 25, 6)\n",
    "\n",
    "def LR(x, y):\n",
    "  clf = LinearRegression()\n",
    "  param_grid = {\n",
    "      \"fit_intercept\" : [True, False],\n",
    "      \"normalize\" : [True, False],\n",
    "      \"copy_X\" : [True, False],\n",
    "  }\n",
    "  return randomCV(clf, x, y, param_grid, 25, 6)\n",
    "\n",
    "def NN(x, y):\n",
    "  clf = MLPRegressor()\n",
    "  param_grid = {\n",
    "      \"hidden_layer_sizes\" : np.arange(1,200),\n",
    "      \"activation\" : ['identity', 'logistic', 'tanh', 'relu'],\n",
    "      \"solver\" : ['lbfgs', 'sgd', 'adam'],\n",
    "      \"learning_rate\" : ['constant', 'invscaling', 'adaptive'],\n",
    "      \"shuffle\" : [True, False],\n",
    "  }\n",
    "  return randomCV(clf, x, y, param_grid, 30, 6)"
   ]
  },
  {
   "cell_type": "code",
   "execution_count": 36,
   "metadata": {
    "colab": {},
    "colab_type": "code",
    "id": "9z8j-SAEZuhA"
   },
   "outputs": [
    {
     "name": "stdout",
     "output_type": "stream",
     "text": [
      "(100, 26)\n"
     ]
    }
   ],
   "source": [
    "data = read(\"4train.txt\")       # read data\n",
    "data = data[:,1:]                                 # remove id\n",
    "\n",
    "np.random.shuffle(data)                           # shuffle for fairness\n",
    "\n",
    "y = data[:,-2:-1]                                 # separating prediction var\n",
    "\n",
    "x = data[:,:data.shape[1] -2]\n",
    "\n",
    "x_train, x_test = np.split(x, [940])              # separating test data\n",
    "y_train, y_test = np.split(y, [940])\n",
    "\n",
    "print(x_test.shape)\n",
    "\n",
    "\n",
    "\n",
    "# scaler = StandardScaler()                         # scaling features\n",
    "# scaler.fit(x_train)\n",
    "# x_train = scaler.transform(x_train)\n",
    "# x_test = scaler.transform(x_test)"
   ]
  },
  {
   "cell_type": "code",
   "execution_count": 39,
   "metadata": {
    "colab": {},
    "colab_type": "code",
    "id": "ruGGb58715ba"
   },
   "outputs": [
    {
     "name": "stdout",
     "output_type": "stream",
     "text": [
      "\n",
      "\n",
      "\n",
      "\n",
      "\n",
      "\n",
      "Model with rank: 1\n",
      "Mean validation score: 0.065 (std: 0.063)\n",
      "Parameters: {'splitter': 'best', 'min_samples_split': 0.0919119119119119, 'min_samples_leaf': 0.05708708708708709, 'max_depth': 4, 'criterion': 'friedman_mse'}\n",
      "\n",
      "Model with rank: 2\n",
      "Mean validation score: 0.060 (std: 0.029)\n",
      "Parameters: {'splitter': 'random', 'min_samples_split': 0.4867567567567567, 'min_samples_leaf': 0.046786786786786785, 'max_depth': 3, 'criterion': 'mse'}\n",
      "\n",
      "Model with rank: 3\n",
      "Mean validation score: 0.053 (std: 0.022)\n",
      "Parameters: {'splitter': 'random', 'min_samples_split': 0.24788788788788788, 'min_samples_leaf': 0.03207207207207207, 'max_depth': 5, 'criterion': 'mse'}\n",
      "\n",
      "RMSE on test data :  227.21258398112758\n",
      "Score with test data 0.16562773494751115\n"
     ]
    }
   ],
   "source": [
    "# ---------------> \n",
    "param = Dt(x_train, y_train)\n",
    "reg_tree = DecisionTreeRegressor().set_params(**param)\n",
    "reg_tree.fit(x_train, y_train)\n",
    "prediction = reg_tree.predict(x_test)\n",
    "\n",
    "rmse = mean_squared_error(y_test, prediction)\n",
    "print(\"RMSE on test data : \", rmse)\n",
    "\n",
    "print(\"Score with test data\",reg_tree.score(x_test, y_test))\n"
   ]
  },
  {
   "cell_type": "code",
   "execution_count": 40,
   "metadata": {
    "colab": {
     "base_uri": "https://localhost:8080/",
     "height": 1000
    },
    "colab_type": "code",
    "id": "Yf5kxGVC18hT",
    "outputId": "b41b2c0d-a161-4308-895e-c7b972398b44"
   },
   "outputs": [
    {
     "name": "stderr",
     "output_type": "stream",
     "text": [
      "/home/sid/miniconda3/lib/python3.7/site-packages/sklearn/model_selection/_search.py:266: UserWarning: The total space of parameters 240 is smaller than n_iter=400. Running 240 iterations. For exhaustive searches, use GridSearchCV.\n",
      "  % (grid_size, self.n_iter, grid_size), UserWarning)\n"
     ]
    },
    {
     "name": "stdout",
     "output_type": "stream",
     "text": [
      "\n",
      "\n",
      "\n",
      "\n",
      "\n",
      "\n",
      "Model with rank: 1\n",
      "Mean validation score: 0.129 (std: 0.023)\n",
      "Parameters: {'n_estimators': 34, 'max_depth': 5}\n",
      "\n",
      "Model with rank: 2\n",
      "Mean validation score: 0.127 (std: 0.032)\n",
      "Parameters: {'n_estimators': 28, 'max_depth': 5}\n",
      "\n",
      "Model with rank: 3\n",
      "Mean validation score: 0.126 (std: 0.027)\n",
      "Parameters: {'n_estimators': 25, 'max_depth': 5}\n",
      "\n",
      "RMSE on test data :  210.88105895357157\n",
      "Score with test data 0.16562773494751115\n"
     ]
    }
   ],
   "source": [
    "# --------------->\n",
    "param = Rf(x_train, y_train)\n",
    "reg_rf = RandomForestRegressor().set_params(**param)\n",
    "reg_rf.fit(x_train, y_train)\n",
    "prediction = reg_rf.predict(x_test)\n",
    "\n",
    "rmse = mean_squared_error(y_test, prediction)\n",
    "print(\"RMSE on test data : \", rmse)\n",
    "\n",
    "print(\"Score with test data\",reg_tree.score(x_test, y_test))\n"
   ]
  },
  {
   "cell_type": "code",
   "execution_count": 22,
   "metadata": {
    "colab": {
     "base_uri": "https://localhost:8080/",
     "height": 384
    },
    "colab_type": "code",
    "id": "yCzfGFNv1_kk",
    "outputId": "0a8eaaea-7f45-41ad-e2de-a443abb4559b"
   },
   "outputs": [
    {
     "name": "stdout",
     "output_type": "stream",
     "text": [
      "\n",
      "\n",
      "\n",
      "\n",
      "\n",
      "\n",
      "Model with rank: 1\n",
      "Mean validation score: -0.120 (std: 0.179)\n",
      "Parameters: {'n_estimators': 33, 'loss': 'square'}\n",
      "\n",
      "Model with rank: 2\n",
      "Mean validation score: -0.138 (std: 0.211)\n",
      "Parameters: {'n_estimators': 92, 'loss': 'exponential'}\n",
      "\n",
      "Model with rank: 3\n",
      "Mean validation score: -0.143 (std: 0.213)\n",
      "Parameters: {'n_estimators': 64, 'loss': 'square'}\n",
      "\n",
      "RMSE on test data :  426.9457450536315\n",
      "Score with test data 0.0\n"
     ]
    }
   ],
   "source": [
    "# --------------->\n",
    "param = Ada(x_train, y_train)\n",
    "reg_ada = AdaBoostRegressor().set_params(**param)\n",
    "reg_ada.fit(x_train, y_train)\n",
    "prediction = reg_ada.predict(x_test)\n",
    "\n",
    "rmse = mean_squared_error(y_test, prediction)\n",
    "print(\"RMSE on test data : \", rmse)\n",
    "\n",
    "print(\"Score with test data\",reg_ada.score(x_test, y_test))\n"
   ]
  },
  {
   "cell_type": "code",
   "execution_count": 31,
   "metadata": {
    "colab": {
     "base_uri": "https://localhost:8080/",
     "height": 141
    },
    "colab_type": "code",
    "id": "-yWxq9h_2CI0",
    "outputId": "dac2e8b9-5d41-4e28-d9b4-49d8292e36a8"
   },
   "outputs": [
    {
     "name": "stdout",
     "output_type": "stream",
     "text": [
      "\n",
      "\n",
      "\n",
      "\n",
      "\n",
      "\n",
      "Model with rank: 1\n",
      "Mean validation score: -0.007 (std: 0.008)\n",
      "Parameters: {'normalize_y': True, 'copy_X_train': False, 'alpha': 0.0}\n",
      "\n",
      "Model with rank: 2\n",
      "Mean validation score: -0.007 (std: 0.008)\n",
      "Parameters: {'normalize_y': True, 'copy_X_train': False, 'alpha': 0.6060606060606061}\n",
      "\n",
      "Model with rank: 3\n",
      "Mean validation score: -0.007 (std: 0.008)\n",
      "Parameters: {'normalize_y': True, 'copy_X_train': False, 'alpha': 0.9090909090909091}\n",
      "\n",
      "RMSE on test data :  213.97143594386594\n",
      "Score with test data -0.013754005544486692\n"
     ]
    }
   ],
   "source": [
    "# --------------->\n",
    "param = GP(x_train, y_train)\n",
    "reg_gp = GaussianProcessRegressor().set_params(**param)\n",
    "reg_gp.fit(x_train, y_train)\n",
    "prediction = reg_gp.predict(x_test)\n",
    "\n",
    "rmse = mean_squared_error(y_test, prediction)\n",
    "print(\"RMSE on test data : \", rmse)\n",
    "\n",
    "print(\"Score with test data\",reg_gp.score(x_test, y_test))\n"
   ]
  },
  {
   "cell_type": "code",
   "execution_count": 32,
   "metadata": {
    "colab": {
     "base_uri": "https://localhost:8080/",
     "height": 627
    },
    "colab_type": "code",
    "id": "MTcjzFYs2GLR",
    "outputId": "82b254d4-0a05-4e30-91da-bbf90a518aca"
   },
   "outputs": [
    {
     "name": "stdout",
     "output_type": "stream",
     "text": [
      "\n",
      "\n",
      "\n",
      "\n",
      "\n",
      "\n",
      "Model with rank: 1\n",
      "Mean validation score: 0.075 (std: 0.043)\n",
      "Parameters: {'normalize': True, 'fit_intercept': False, 'copy_X': True}\n",
      "\n",
      "Model with rank: 1\n",
      "Mean validation score: 0.075 (std: 0.043)\n",
      "Parameters: {'normalize': False, 'fit_intercept': False, 'copy_X': True}\n",
      "\n",
      "Model with rank: 1\n",
      "Mean validation score: 0.075 (std: 0.043)\n",
      "Parameters: {'normalize': True, 'fit_intercept': False, 'copy_X': False}\n",
      "\n",
      "RMSE on test data :  208.28892024135988\n",
      "Score with test data 0.013168620971401257\n"
     ]
    },
    {
     "name": "stderr",
     "output_type": "stream",
     "text": [
      "/home/sid/miniconda3/lib/python3.7/site-packages/sklearn/model_selection/_search.py:266: UserWarning: The total space of parameters 8 is smaller than n_iter=25. Running 8 iterations. For exhaustive searches, use GridSearchCV.\n",
      "  % (grid_size, self.n_iter, grid_size), UserWarning)\n"
     ]
    }
   ],
   "source": [
    "# --------------->\n",
    "param = LR(x_train, y_train)\n",
    "reg_lr = LinearRegression().set_params(**param)\n",
    "reg_lr.fit(x_train, y_train)\n",
    "prediction = reg_lr.predict(x_test)\n",
    "\n",
    "rmse = mean_squared_error(y_test, prediction)\n",
    "print(\"RMSE on test data : \", rmse)\n",
    "\n",
    "print(\"Score with test data\",reg_lr.score(x_test, y_test))\n"
   ]
  },
  {
   "cell_type": "code",
   "execution_count": 33,
   "metadata": {
    "colab": {
     "base_uri": "https://localhost:8080/",
     "height": 1000
    },
    "colab_type": "code",
    "id": "RBP39Cbm2IuX",
    "outputId": "72aafeb3-e769-4858-d570-67044d71ec7a"
   },
   "outputs": [
    {
     "ename": "ValueError",
     "evalue": "Input contains NaN, infinity or a value too large for dtype('float64').",
     "output_type": "error",
     "traceback": [
      "\u001b[0;31m---------------------------------------------------------------------------\u001b[0m",
      "\u001b[0;31m_RemoteTraceback\u001b[0m                          Traceback (most recent call last)",
      "\u001b[0;31m_RemoteTraceback\u001b[0m: \n\"\"\"\nTraceback (most recent call last):\n  File \"/home/sid/miniconda3/lib/python3.7/site-packages/joblib/externals/loky/process_executor.py\", line 418, in _process_worker\n    r = call_item()\n  File \"/home/sid/miniconda3/lib/python3.7/site-packages/joblib/externals/loky/process_executor.py\", line 272, in __call__\n    return self.fn(*self.args, **self.kwargs)\n  File \"/home/sid/miniconda3/lib/python3.7/site-packages/joblib/_parallel_backends.py\", line 567, in __call__\n    return self.func(*args, **kwargs)\n  File \"/home/sid/miniconda3/lib/python3.7/site-packages/joblib/parallel.py\", line 225, in __call__\n    for func, args, kwargs in self.items]\n  File \"/home/sid/miniconda3/lib/python3.7/site-packages/joblib/parallel.py\", line 225, in <listcomp>\n    for func, args, kwargs in self.items]\n  File \"/home/sid/miniconda3/lib/python3.7/site-packages/sklearn/model_selection/_validation.py\", line 556, in _fit_and_score\n    test_scores = _score(estimator, X_test, y_test, scorer, is_multimetric)\n  File \"/home/sid/miniconda3/lib/python3.7/site-packages/sklearn/model_selection/_validation.py\", line 599, in _score\n    return _multimetric_score(estimator, X_test, y_test, scorer)\n  File \"/home/sid/miniconda3/lib/python3.7/site-packages/sklearn/model_selection/_validation.py\", line 629, in _multimetric_score\n    score = scorer(estimator, X_test, y_test)\n  File \"/home/sid/miniconda3/lib/python3.7/site-packages/sklearn/metrics/scorer.py\", line 240, in _passthrough_scorer\n    return estimator.score(*args, **kwargs)\n  File \"/home/sid/miniconda3/lib/python3.7/site-packages/sklearn/base.py\", line 410, in score\n    y_type, _, _, _ = _check_reg_targets(y, y_pred, None)\n  File \"/home/sid/miniconda3/lib/python3.7/site-packages/sklearn/metrics/regression.py\", line 79, in _check_reg_targets\n    y_pred = check_array(y_pred, ensure_2d=False)\n  File \"/home/sid/miniconda3/lib/python3.7/site-packages/sklearn/utils/validation.py\", line 542, in check_array\n    allow_nan=force_all_finite == 'allow-nan')\n  File \"/home/sid/miniconda3/lib/python3.7/site-packages/sklearn/utils/validation.py\", line 56, in _assert_all_finite\n    raise ValueError(msg_err.format(type_err, X.dtype))\nValueError: Input contains NaN, infinity or a value too large for dtype('float64').\n\"\"\"",
      "\nThe above exception was the direct cause of the following exception:\n",
      "\u001b[0;31mValueError\u001b[0m                                Traceback (most recent call last)",
      "\u001b[0;32m<ipython-input-33-62abb5a6a25f>\u001b[0m in \u001b[0;36m<module>\u001b[0;34m\u001b[0m\n\u001b[1;32m      1\u001b[0m \u001b[0;31m# # --------------->\u001b[0m\u001b[0;34m\u001b[0m\u001b[0;34m\u001b[0m\u001b[0;34m\u001b[0m\u001b[0m\n\u001b[0;32m----> 2\u001b[0;31m \u001b[0mparam\u001b[0m \u001b[0;34m=\u001b[0m \u001b[0mNN\u001b[0m\u001b[0;34m(\u001b[0m\u001b[0mx_train\u001b[0m\u001b[0;34m,\u001b[0m \u001b[0my_train\u001b[0m\u001b[0;34m)\u001b[0m\u001b[0;34m\u001b[0m\u001b[0;34m\u001b[0m\u001b[0m\n\u001b[0m\u001b[1;32m      3\u001b[0m \u001b[0mreg_nn\u001b[0m \u001b[0;34m=\u001b[0m \u001b[0mMLPRegressor\u001b[0m\u001b[0;34m(\u001b[0m\u001b[0;34m)\u001b[0m\u001b[0;34m.\u001b[0m\u001b[0mset_params\u001b[0m\u001b[0;34m(\u001b[0m\u001b[0;34m**\u001b[0m\u001b[0mparam\u001b[0m\u001b[0;34m)\u001b[0m\u001b[0;34m\u001b[0m\u001b[0;34m\u001b[0m\u001b[0m\n\u001b[1;32m      4\u001b[0m \u001b[0mreg_nn\u001b[0m\u001b[0;34m.\u001b[0m\u001b[0mfit\u001b[0m\u001b[0;34m(\u001b[0m\u001b[0mx_train\u001b[0m\u001b[0;34m,\u001b[0m \u001b[0my_train\u001b[0m\u001b[0;34m)\u001b[0m\u001b[0;34m\u001b[0m\u001b[0;34m\u001b[0m\u001b[0m\n\u001b[1;32m      5\u001b[0m \u001b[0;34m\u001b[0m\u001b[0m\n",
      "\u001b[0;32m<ipython-input-3-c34a8a3d7562>\u001b[0m in \u001b[0;36mNN\u001b[0;34m(x, y)\u001b[0m\n\u001b[1;32m     98\u001b[0m       \u001b[0;34m\"shuffle\"\u001b[0m \u001b[0;34m:\u001b[0m \u001b[0;34m[\u001b[0m\u001b[0;32mTrue\u001b[0m\u001b[0;34m,\u001b[0m \u001b[0;32mFalse\u001b[0m\u001b[0;34m]\u001b[0m\u001b[0;34m,\u001b[0m\u001b[0;34m\u001b[0m\u001b[0;34m\u001b[0m\u001b[0m\n\u001b[1;32m     99\u001b[0m   }\n\u001b[0;32m--> 100\u001b[0;31m   \u001b[0;32mreturn\u001b[0m \u001b[0mrandomCV\u001b[0m\u001b[0;34m(\u001b[0m\u001b[0mclf\u001b[0m\u001b[0;34m,\u001b[0m \u001b[0mx\u001b[0m\u001b[0;34m,\u001b[0m \u001b[0my\u001b[0m\u001b[0;34m,\u001b[0m \u001b[0mparam_grid\u001b[0m\u001b[0;34m,\u001b[0m \u001b[0;36m30\u001b[0m\u001b[0;34m,\u001b[0m \u001b[0;36m6\u001b[0m\u001b[0;34m)\u001b[0m\u001b[0;34m\u001b[0m\u001b[0;34m\u001b[0m\u001b[0m\n\u001b[0m",
      "\u001b[0;32m<ipython-input-3-c34a8a3d7562>\u001b[0m in \u001b[0;36mrandomCV\u001b[0;34m(clf, X, y, param_grid, n_iter, cv)\u001b[0m\n\u001b[1;32m     19\u001b[0m     random_search = RandomizedSearchCV(clf, param_distributions = param_grid,\n\u001b[1;32m     20\u001b[0m           n_iter = n_iter, cv = cv, iid = False, n_jobs = -1)\n\u001b[0;32m---> 21\u001b[0;31m     \u001b[0mrandom_search\u001b[0m\u001b[0;34m.\u001b[0m\u001b[0mfit\u001b[0m\u001b[0;34m(\u001b[0m\u001b[0mX\u001b[0m\u001b[0;34m,\u001b[0m \u001b[0my\u001b[0m\u001b[0;34m)\u001b[0m\u001b[0;34m\u001b[0m\u001b[0;34m\u001b[0m\u001b[0m\n\u001b[0m\u001b[1;32m     22\u001b[0m     \u001b[0mreport\u001b[0m\u001b[0;34m(\u001b[0m\u001b[0mrandom_search\u001b[0m\u001b[0;34m.\u001b[0m\u001b[0mcv_results_\u001b[0m\u001b[0;34m)\u001b[0m\u001b[0;34m\u001b[0m\u001b[0;34m\u001b[0m\u001b[0m\n\u001b[1;32m     23\u001b[0m     \u001b[0;32mreturn\u001b[0m \u001b[0mrandom_search\u001b[0m\u001b[0;34m.\u001b[0m\u001b[0mbest_params_\u001b[0m\u001b[0;34m\u001b[0m\u001b[0;34m\u001b[0m\u001b[0m\n",
      "\u001b[0;32m~/miniconda3/lib/python3.7/site-packages/sklearn/model_selection/_search.py\u001b[0m in \u001b[0;36mfit\u001b[0;34m(self, X, y, groups, **fit_params)\u001b[0m\n\u001b[1;32m    686\u001b[0m                 \u001b[0;32mreturn\u001b[0m \u001b[0mresults\u001b[0m\u001b[0;34m\u001b[0m\u001b[0;34m\u001b[0m\u001b[0m\n\u001b[1;32m    687\u001b[0m \u001b[0;34m\u001b[0m\u001b[0m\n\u001b[0;32m--> 688\u001b[0;31m             \u001b[0mself\u001b[0m\u001b[0;34m.\u001b[0m\u001b[0m_run_search\u001b[0m\u001b[0;34m(\u001b[0m\u001b[0mevaluate_candidates\u001b[0m\u001b[0;34m)\u001b[0m\u001b[0;34m\u001b[0m\u001b[0;34m\u001b[0m\u001b[0m\n\u001b[0m\u001b[1;32m    689\u001b[0m \u001b[0;34m\u001b[0m\u001b[0m\n\u001b[1;32m    690\u001b[0m         \u001b[0;31m# For multi-metric evaluation, store the best_index_, best_params_ and\u001b[0m\u001b[0;34m\u001b[0m\u001b[0;34m\u001b[0m\u001b[0;34m\u001b[0m\u001b[0m\n",
      "\u001b[0;32m~/miniconda3/lib/python3.7/site-packages/sklearn/model_selection/_search.py\u001b[0m in \u001b[0;36m_run_search\u001b[0;34m(self, evaluate_candidates)\u001b[0m\n\u001b[1;32m   1467\u001b[0m         evaluate_candidates(ParameterSampler(\n\u001b[1;32m   1468\u001b[0m             \u001b[0mself\u001b[0m\u001b[0;34m.\u001b[0m\u001b[0mparam_distributions\u001b[0m\u001b[0;34m,\u001b[0m \u001b[0mself\u001b[0m\u001b[0;34m.\u001b[0m\u001b[0mn_iter\u001b[0m\u001b[0;34m,\u001b[0m\u001b[0;34m\u001b[0m\u001b[0;34m\u001b[0m\u001b[0m\n\u001b[0;32m-> 1469\u001b[0;31m             random_state=self.random_state))\n\u001b[0m",
      "\u001b[0;32m~/miniconda3/lib/python3.7/site-packages/sklearn/model_selection/_search.py\u001b[0m in \u001b[0;36mevaluate_candidates\u001b[0;34m(candidate_params)\u001b[0m\n\u001b[1;32m    665\u001b[0m                                \u001b[0;32mfor\u001b[0m \u001b[0mparameters\u001b[0m\u001b[0;34m,\u001b[0m \u001b[0;34m(\u001b[0m\u001b[0mtrain\u001b[0m\u001b[0;34m,\u001b[0m \u001b[0mtest\u001b[0m\u001b[0;34m)\u001b[0m\u001b[0;34m\u001b[0m\u001b[0;34m\u001b[0m\u001b[0m\n\u001b[1;32m    666\u001b[0m                                in product(candidate_params,\n\u001b[0;32m--> 667\u001b[0;31m                                           cv.split(X, y, groups)))\n\u001b[0m\u001b[1;32m    668\u001b[0m \u001b[0;34m\u001b[0m\u001b[0m\n\u001b[1;32m    669\u001b[0m                 \u001b[0;32mif\u001b[0m \u001b[0mlen\u001b[0m\u001b[0;34m(\u001b[0m\u001b[0mout\u001b[0m\u001b[0;34m)\u001b[0m \u001b[0;34m<\u001b[0m \u001b[0;36m1\u001b[0m\u001b[0;34m:\u001b[0m\u001b[0;34m\u001b[0m\u001b[0;34m\u001b[0m\u001b[0m\n",
      "\u001b[0;32m~/miniconda3/lib/python3.7/site-packages/joblib/parallel.py\u001b[0m in \u001b[0;36m__call__\u001b[0;34m(self, iterable)\u001b[0m\n\u001b[1;32m    932\u001b[0m \u001b[0;34m\u001b[0m\u001b[0m\n\u001b[1;32m    933\u001b[0m             \u001b[0;32mwith\u001b[0m \u001b[0mself\u001b[0m\u001b[0;34m.\u001b[0m\u001b[0m_backend\u001b[0m\u001b[0;34m.\u001b[0m\u001b[0mretrieval_context\u001b[0m\u001b[0;34m(\u001b[0m\u001b[0;34m)\u001b[0m\u001b[0;34m:\u001b[0m\u001b[0;34m\u001b[0m\u001b[0;34m\u001b[0m\u001b[0m\n\u001b[0;32m--> 934\u001b[0;31m                 \u001b[0mself\u001b[0m\u001b[0;34m.\u001b[0m\u001b[0mretrieve\u001b[0m\u001b[0;34m(\u001b[0m\u001b[0;34m)\u001b[0m\u001b[0;34m\u001b[0m\u001b[0;34m\u001b[0m\u001b[0m\n\u001b[0m\u001b[1;32m    935\u001b[0m             \u001b[0;31m# Make sure that we get a last message telling us we are done\u001b[0m\u001b[0;34m\u001b[0m\u001b[0;34m\u001b[0m\u001b[0;34m\u001b[0m\u001b[0m\n\u001b[1;32m    936\u001b[0m             \u001b[0melapsed_time\u001b[0m \u001b[0;34m=\u001b[0m \u001b[0mtime\u001b[0m\u001b[0;34m.\u001b[0m\u001b[0mtime\u001b[0m\u001b[0;34m(\u001b[0m\u001b[0;34m)\u001b[0m \u001b[0;34m-\u001b[0m \u001b[0mself\u001b[0m\u001b[0;34m.\u001b[0m\u001b[0m_start_time\u001b[0m\u001b[0;34m\u001b[0m\u001b[0;34m\u001b[0m\u001b[0m\n",
      "\u001b[0;32m~/miniconda3/lib/python3.7/site-packages/joblib/parallel.py\u001b[0m in \u001b[0;36mretrieve\u001b[0;34m(self)\u001b[0m\n\u001b[1;32m    831\u001b[0m             \u001b[0;32mtry\u001b[0m\u001b[0;34m:\u001b[0m\u001b[0;34m\u001b[0m\u001b[0;34m\u001b[0m\u001b[0m\n\u001b[1;32m    832\u001b[0m                 \u001b[0;32mif\u001b[0m \u001b[0mgetattr\u001b[0m\u001b[0;34m(\u001b[0m\u001b[0mself\u001b[0m\u001b[0;34m.\u001b[0m\u001b[0m_backend\u001b[0m\u001b[0;34m,\u001b[0m \u001b[0;34m'supports_timeout'\u001b[0m\u001b[0;34m,\u001b[0m \u001b[0;32mFalse\u001b[0m\u001b[0;34m)\u001b[0m\u001b[0;34m:\u001b[0m\u001b[0;34m\u001b[0m\u001b[0;34m\u001b[0m\u001b[0m\n\u001b[0;32m--> 833\u001b[0;31m                     \u001b[0mself\u001b[0m\u001b[0;34m.\u001b[0m\u001b[0m_output\u001b[0m\u001b[0;34m.\u001b[0m\u001b[0mextend\u001b[0m\u001b[0;34m(\u001b[0m\u001b[0mjob\u001b[0m\u001b[0;34m.\u001b[0m\u001b[0mget\u001b[0m\u001b[0;34m(\u001b[0m\u001b[0mtimeout\u001b[0m\u001b[0;34m=\u001b[0m\u001b[0mself\u001b[0m\u001b[0;34m.\u001b[0m\u001b[0mtimeout\u001b[0m\u001b[0;34m)\u001b[0m\u001b[0;34m)\u001b[0m\u001b[0;34m\u001b[0m\u001b[0;34m\u001b[0m\u001b[0m\n\u001b[0m\u001b[1;32m    834\u001b[0m                 \u001b[0;32melse\u001b[0m\u001b[0;34m:\u001b[0m\u001b[0;34m\u001b[0m\u001b[0;34m\u001b[0m\u001b[0m\n\u001b[1;32m    835\u001b[0m                     \u001b[0mself\u001b[0m\u001b[0;34m.\u001b[0m\u001b[0m_output\u001b[0m\u001b[0;34m.\u001b[0m\u001b[0mextend\u001b[0m\u001b[0;34m(\u001b[0m\u001b[0mjob\u001b[0m\u001b[0;34m.\u001b[0m\u001b[0mget\u001b[0m\u001b[0;34m(\u001b[0m\u001b[0;34m)\u001b[0m\u001b[0;34m)\u001b[0m\u001b[0;34m\u001b[0m\u001b[0;34m\u001b[0m\u001b[0m\n",
      "\u001b[0;32m~/miniconda3/lib/python3.7/site-packages/joblib/_parallel_backends.py\u001b[0m in \u001b[0;36mwrap_future_result\u001b[0;34m(future, timeout)\u001b[0m\n\u001b[1;32m    519\u001b[0m         AsyncResults.get from multiprocessing.\"\"\"\n\u001b[1;32m    520\u001b[0m         \u001b[0;32mtry\u001b[0m\u001b[0;34m:\u001b[0m\u001b[0;34m\u001b[0m\u001b[0;34m\u001b[0m\u001b[0m\n\u001b[0;32m--> 521\u001b[0;31m             \u001b[0;32mreturn\u001b[0m \u001b[0mfuture\u001b[0m\u001b[0;34m.\u001b[0m\u001b[0mresult\u001b[0m\u001b[0;34m(\u001b[0m\u001b[0mtimeout\u001b[0m\u001b[0;34m=\u001b[0m\u001b[0mtimeout\u001b[0m\u001b[0;34m)\u001b[0m\u001b[0;34m\u001b[0m\u001b[0;34m\u001b[0m\u001b[0m\n\u001b[0m\u001b[1;32m    522\u001b[0m         \u001b[0;32mexcept\u001b[0m \u001b[0mLokyTimeoutError\u001b[0m\u001b[0;34m:\u001b[0m\u001b[0;34m\u001b[0m\u001b[0;34m\u001b[0m\u001b[0m\n\u001b[1;32m    523\u001b[0m             \u001b[0;32mraise\u001b[0m \u001b[0mTimeoutError\u001b[0m\u001b[0;34m(\u001b[0m\u001b[0;34m)\u001b[0m\u001b[0;34m\u001b[0m\u001b[0;34m\u001b[0m\u001b[0m\n",
      "\u001b[0;32m~/miniconda3/lib/python3.7/concurrent/futures/_base.py\u001b[0m in \u001b[0;36mresult\u001b[0;34m(self, timeout)\u001b[0m\n\u001b[1;32m    423\u001b[0m                 \u001b[0;32mraise\u001b[0m \u001b[0mCancelledError\u001b[0m\u001b[0;34m(\u001b[0m\u001b[0;34m)\u001b[0m\u001b[0;34m\u001b[0m\u001b[0;34m\u001b[0m\u001b[0m\n\u001b[1;32m    424\u001b[0m             \u001b[0;32melif\u001b[0m \u001b[0mself\u001b[0m\u001b[0;34m.\u001b[0m\u001b[0m_state\u001b[0m \u001b[0;34m==\u001b[0m \u001b[0mFINISHED\u001b[0m\u001b[0;34m:\u001b[0m\u001b[0;34m\u001b[0m\u001b[0;34m\u001b[0m\u001b[0m\n\u001b[0;32m--> 425\u001b[0;31m                 \u001b[0;32mreturn\u001b[0m \u001b[0mself\u001b[0m\u001b[0;34m.\u001b[0m\u001b[0m__get_result\u001b[0m\u001b[0;34m(\u001b[0m\u001b[0;34m)\u001b[0m\u001b[0;34m\u001b[0m\u001b[0;34m\u001b[0m\u001b[0m\n\u001b[0m\u001b[1;32m    426\u001b[0m \u001b[0;34m\u001b[0m\u001b[0m\n\u001b[1;32m    427\u001b[0m             \u001b[0mself\u001b[0m\u001b[0;34m.\u001b[0m\u001b[0m_condition\u001b[0m\u001b[0;34m.\u001b[0m\u001b[0mwait\u001b[0m\u001b[0;34m(\u001b[0m\u001b[0mtimeout\u001b[0m\u001b[0;34m)\u001b[0m\u001b[0;34m\u001b[0m\u001b[0;34m\u001b[0m\u001b[0m\n",
      "\u001b[0;32m~/miniconda3/lib/python3.7/concurrent/futures/_base.py\u001b[0m in \u001b[0;36m__get_result\u001b[0;34m(self)\u001b[0m\n\u001b[1;32m    382\u001b[0m     \u001b[0;32mdef\u001b[0m \u001b[0m__get_result\u001b[0m\u001b[0;34m(\u001b[0m\u001b[0mself\u001b[0m\u001b[0;34m)\u001b[0m\u001b[0;34m:\u001b[0m\u001b[0;34m\u001b[0m\u001b[0;34m\u001b[0m\u001b[0m\n\u001b[1;32m    383\u001b[0m         \u001b[0;32mif\u001b[0m \u001b[0mself\u001b[0m\u001b[0;34m.\u001b[0m\u001b[0m_exception\u001b[0m\u001b[0;34m:\u001b[0m\u001b[0;34m\u001b[0m\u001b[0;34m\u001b[0m\u001b[0m\n\u001b[0;32m--> 384\u001b[0;31m             \u001b[0;32mraise\u001b[0m \u001b[0mself\u001b[0m\u001b[0;34m.\u001b[0m\u001b[0m_exception\u001b[0m\u001b[0;34m\u001b[0m\u001b[0;34m\u001b[0m\u001b[0m\n\u001b[0m\u001b[1;32m    385\u001b[0m         \u001b[0;32melse\u001b[0m\u001b[0;34m:\u001b[0m\u001b[0;34m\u001b[0m\u001b[0;34m\u001b[0m\u001b[0m\n\u001b[1;32m    386\u001b[0m             \u001b[0;32mreturn\u001b[0m \u001b[0mself\u001b[0m\u001b[0;34m.\u001b[0m\u001b[0m_result\u001b[0m\u001b[0;34m\u001b[0m\u001b[0;34m\u001b[0m\u001b[0m\n",
      "\u001b[0;31mValueError\u001b[0m: Input contains NaN, infinity or a value too large for dtype('float64')."
     ]
    }
   ],
   "source": [
    "# # --------------->\n",
    "param = NN(x_train, y_train)\n",
    "reg_nn = MLPRegressor().set_params(**param)\n",
    "reg_nn.fit(x_train, y_train)\n",
    "\n",
    "prediction = reg_nn.predict(x_test)\n",
    "\n",
    "rmse = mean_squared_error(y_test, prediction)\n",
    "\n",
    "print(\"RMSE on test data : \", rmse)\n",
    "print(\"Score with test data\",reg_nn.score(x_test, y_test))"
   ]
  },
  {
   "cell_type": "code",
   "execution_count": null,
   "metadata": {
    "colab": {},
    "colab_type": "code",
    "id": "9i7BVQ5Z11vn"
   },
   "outputs": [],
   "source": [
    "# ---------------> Support vector regression\n",
    "param = Svr(x_train, y_train)\n",
    "reg_nn = svm.SVR().set_params(**param)\n",
    "reg_nn.fit(x_train, y_train)\n",
    "\n",
    "prediction = reg_nn.predict(x_test)\n",
    "\n",
    "rmse = mean_squared_error(y_test, prediction)\n",
    "\n",
    "print(\"RMSE on test data : \", rmse)\n",
    "print(\"Score with test data\",reg_nn.score(x_test, y_test))\n"
   ]
  }
 ],
 "metadata": {
  "accelerator": "GPU",
  "colab": {
   "collapsed_sections": [],
   "name": "4r.ipynb",
   "provenance": []
  },
  "kernelspec": {
   "display_name": "Python 3",
   "language": "python",
   "name": "python3"
  },
  "language_info": {
   "codemirror_mode": {
    "name": "ipython",
    "version": 3
   },
   "file_extension": ".py",
   "mimetype": "text/x-python",
   "name": "python",
   "nbconvert_exporter": "python",
   "pygments_lexer": "ipython3",
   "version": "3.7.3"
  }
 },
 "nbformat": 4,
 "nbformat_minor": 1
}
