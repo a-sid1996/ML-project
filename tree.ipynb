{
  "nbformat": 4,
  "nbformat_minor": 0,
  "metadata": {
    "colab": {
      "name": "tree",
      "provenance": [],
      "collapsed_sections": []
    },
    "kernelspec": {
      "name": "python3",
      "display_name": "Python 3"
    }
  },
  "cells": [
    {
      "cell_type": "code",
      "metadata": {
        "id": "7doQB8JPJfFd",
        "colab_type": "code",
        "outputId": "145ac9e0-ee25-43b3-f051-bd944e6462d5",
        "colab": {
          "base_uri": "https://localhost:8080/",
          "height": 225
        }
      },
      "source": [
        "! wget \"http://www.cs.toronto.edu/~kriz/cifar-10-python.tar.gz\"\n",
        "! ls"
      ],
      "execution_count": 0,
      "outputs": [
        {
          "output_type": "stream",
          "text": [
            "--2019-12-06 21:38:26--  http://www.cs.toronto.edu/~kriz/cifar-10-python.tar.gz\n",
            "Resolving www.cs.toronto.edu (www.cs.toronto.edu)... 128.100.3.30\n",
            "Connecting to www.cs.toronto.edu (www.cs.toronto.edu)|128.100.3.30|:80... connected.\n",
            "HTTP request sent, awaiting response... 200 OK\n",
            "Length: 170498071 (163M) [application/x-gzip]\n",
            "Saving to: ‘cifar-10-python.tar.gz’\n",
            "\n",
            "cifar-10-python.tar 100%[===================>] 162.60M  29.9MB/s    in 6.1s    \n",
            "\n",
            "2019-12-06 21:38:32 (26.8 MB/s) - ‘cifar-10-python.tar.gz’ saved [170498071/170498071]\n",
            "\n",
            "cifar-10-python.tar.gz\tsample_data\n"
          ],
          "name": "stdout"
        }
      ]
    },
    {
      "cell_type": "code",
      "metadata": {
        "id": "i41XF4F3Jk-_",
        "colab_type": "code",
        "outputId": "6a1c9830-9ace-4744-ca73-80569401388e",
        "colab": {
          "base_uri": "https://localhost:8080/",
          "height": 173
        }
      },
      "source": [
        "! tar -xvf cifar-10-python.tar.gz"
      ],
      "execution_count": 0,
      "outputs": [
        {
          "output_type": "stream",
          "text": [
            "cifar-10-batches-py/\n",
            "cifar-10-batches-py/data_batch_4\n",
            "cifar-10-batches-py/readme.html\n",
            "cifar-10-batches-py/test_batch\n",
            "cifar-10-batches-py/data_batch_3\n",
            "cifar-10-batches-py/batches.meta\n",
            "cifar-10-batches-py/data_batch_2\n",
            "cifar-10-batches-py/data_batch_5\n",
            "cifar-10-batches-py/data_batch_1\n"
          ],
          "name": "stdout"
        }
      ]
    },
    {
      "cell_type": "code",
      "metadata": {
        "id": "ZDyP2_lrJqhQ",
        "colab_type": "code",
        "colab": {}
      },
      "source": [
        "def unpickle(file):\n",
        "    import pickle\n",
        "    with open(file, 'rb') as fo:\n",
        "        dict = pickle.load(fo, encoding='bytes')\n",
        "    return dict"
      ],
      "execution_count": 0,
      "outputs": []
    },
    {
      "cell_type": "code",
      "metadata": {
        "id": "ccY7EoVwKS8t",
        "colab_type": "code",
        "colab": {}
      },
      "source": [
        "import numpy as np\n",
        "from sklearn.preprocessing import StandardScaler\n",
        "import matplotlib\n",
        "import matplotlib.pyplot as plt\n",
        "import sklearn\n",
        "import sklearn.tree        # For DecisionTreeClassifier class\n",
        "import sklearn.ensemble    # For RandomForestClassifier class\n",
        "import sklearn.datasets    # For make_circles\n",
        "import sklearn.metrics     # For accuracy_score\n",
        "from sklearn.feature_selection import VarianceThreshold, SelectKBest\n",
        "from sklearn.decomposition import PCA"
      ],
      "execution_count": 0,
      "outputs": []
    },
    {
      "cell_type": "code",
      "metadata": {
        "id": "z7KadjwNKCQz",
        "colab_type": "code",
        "colab": {}
      },
      "source": [
        "x = np.zeros(3072)\n",
        "y = np.array([], dtype= np.int)\n",
        "for i in range(1,6):\n",
        "  dicti = unpickle(\"cifar-10-batches-py/data_batch_\"+str(i))\n",
        "  x = np.row_stack( ( x, np.array(dicti[b'data'] , dtype= np.uint8) )  )\n",
        "  y = np.append(  y, np.array( dicti[b'labels'], dtype= np.int32) , axis = 0 )\n",
        "x = x[1:]\n",
        "\n",
        "dicti = unpickle(\"cifar-10-batches-py/test_batch\")\n",
        "\n",
        "x_test = np.array(dicti[b'data'] , dtype= np.uint8)\n",
        "y_test = np.array( dicti[b'labels'], dtype= np.int32)"
      ],
      "execution_count": 0,
      "outputs": []
    },
    {
      "cell_type": "code",
      "metadata": {
        "id": "dBqXK6FLfLrF",
        "colab_type": "code",
        "colab": {}
      },
      "source": [
        "scaler = StandardScaler()\n",
        "scaler.fit(x)\n",
        "x = scaler.transform(x)\n",
        "x_test = scaler.transform(x_test)"
      ],
      "execution_count": 0,
      "outputs": []
    },
    {
      "cell_type": "code",
      "metadata": {
        "id": "2uMcl-ZhfSIP",
        "colab_type": "code",
        "colab": {}
      },
      "source": [
        "# pca = PCA()\n",
        "# pca.fit_transform(x_train)\n",
        "# print(len(pca.explained_variance_ratio_[pca.explained_variance_ratio_ > 0.001]))\n",
        "\n",
        "\n",
        "pca = PCA(n_components = 80)\n",
        "pca.fit(x)\n",
        "x = pca.transform(x)\n",
        "x_test = pca.transform(x_test)"
      ],
      "execution_count": 0,
      "outputs": []
    },
    {
      "cell_type": "code",
      "metadata": {
        "id": "OLDFVPmQQOkA",
        "colab_type": "code",
        "outputId": "04c1128f-dc8b-4bfd-af0a-902afe28f733",
        "colab": {
          "base_uri": "https://localhost:8080/",
          "height": 1000
        }
      },
      "source": [
        "print(x.shape, y.shape)\n",
        "\n",
        "tree = sklearn.tree.DecisionTreeClassifier(random_state=0, max_depth = 5)\n",
        "tree.fit(x, y)\n",
        "sklearn.tree.plot_tree(tree, max_depth = 5)"
      ],
      "execution_count": 0,
      "outputs": [
        {
          "output_type": "stream",
          "text": [
            "(50000, 80) (50000,)\n"
          ],
          "name": "stdout"
        },
        {
          "output_type": "execute_result",
          "data": {
            "text/plain": [
              "[Text(167.4, 199.32, 'X[1] <= -9.903\\ngini = 0.9\\nsamples = 50000\\nvalue = [5000, 5000, 5000, 5000, 5000, 5000, 5000, 5000, 5000\\n5000]'),\n",
              " Text(83.7, 163.07999999999998, 'X[2] <= 0.815\\ngini = 0.864\\nsamples = 14387\\nvalue = [1479, 2197, 787, 817, 721, 635, 730, 1192, 2736\\n3093]'),\n",
              " Text(41.85, 126.83999999999999, 'X[7] <= 4.417\\ngini = 0.862\\nsamples = 7535\\nvalue = [538, 1069, 489, 557, 469, 341, 480, 865, 730, 1997]'),\n",
              " Text(20.925, 90.6, 'X[0] <= -7.843\\ngini = 0.882\\nsamples = 5331\\nvalue = [460, 620, 415, 402, 403, 257, 390, 655, 616, 1113]'),\n",
              " Text(10.4625, 54.359999999999985, 'X[1] <= -20.002\\ngini = 0.889\\nsamples = 2004\\nvalue = [110, 288, 231, 234, 212, 128, 270, 179, 95, 257]'),\n",
              " Text(5.23125, 18.119999999999976, 'gini = 0.87\\nsamples = 716\\nvalue = [43, 153, 49, 90, 38, 43, 45, 65, 53, 137]'),\n",
              " Text(15.693750000000001, 18.119999999999976, 'gini = 0.883\\nsamples = 1288\\nvalue = [67, 135, 182, 144, 174, 85, 225, 114, 42, 120]'),\n",
              " Text(31.387500000000003, 54.359999999999985, 'X[4] <= -1.035\\ngini = 0.856\\nsamples = 3327\\nvalue = [350, 332, 184, 168, 191, 129, 120, 476, 521, 856]'),\n",
              " Text(26.15625, 18.119999999999976, 'gini = 0.864\\nsamples = 1437\\nvalue = [118, 94, 99, 108, 121, 81, 90, 331, 97, 298]'),\n",
              " Text(36.61875, 18.119999999999976, 'gini = 0.82\\nsamples = 1890\\nvalue = [232, 238, 85, 60, 70, 48, 30, 145, 424, 558]'),\n",
              " Text(62.775000000000006, 90.6, 'X[8] <= -5.562\\ngini = 0.775\\nsamples = 2204\\nvalue = [78, 449, 74, 155, 66, 84, 90, 210, 114, 884]'),\n",
              " Text(52.3125, 54.359999999999985, 'X[3] <= 4.641\\ngini = 0.84\\nsamples = 624\\nvalue = [20, 96, 25, 78, 32, 35, 33, 108, 22, 175]'),\n",
              " Text(47.081250000000004, 18.119999999999976, 'gini = 0.864\\nsamples = 328\\nvalue = [7, 57, 18, 44, 21, 20, 27, 68, 14, 52]'),\n",
              " Text(57.54375, 18.119999999999976, 'gini = 0.771\\nsamples = 296\\nvalue = [13, 39, 7, 34, 11, 15, 6, 40, 8, 123]'),\n",
              " Text(73.2375, 54.359999999999985, 'X[53] <= 2.432\\ngini = 0.734\\nsamples = 1580\\nvalue = [58, 353, 49, 77, 34, 49, 57, 102, 92, 709]'),\n",
              " Text(68.00625000000001, 18.119999999999976, 'gini = 0.724\\nsamples = 1339\\nvalue = [47, 251, 38, 66, 32, 41, 54, 94, 81, 635]'),\n",
              " Text(78.46875, 18.119999999999976, 'gini = 0.716\\nsamples = 241\\nvalue = [11, 102, 11, 11, 2, 8, 3, 8, 11, 74]'),\n",
              " Text(125.55000000000001, 126.83999999999999, 'X[24] <= -0.46\\ngini = 0.833\\nsamples = 6852\\nvalue = [941, 1128, 298, 260, 252, 294, 250, 327, 2006, 1096]'),\n",
              " Text(104.625, 90.6, 'X[19] <= -2.481\\ngini = 0.833\\nsamples = 3230\\nvalue = [604, 746, 138, 96, 99, 108, 41, 188, 599, 611]'),\n",
              " Text(94.16250000000001, 54.359999999999985, 'X[7] <= -3.134\\ngini = 0.726\\nsamples = 919\\nvalue = [77, 432, 36, 32, 6, 35, 14, 28, 110, 149]'),\n",
              " Text(88.93125, 18.119999999999976, 'gini = 0.831\\nsamples = 275\\nvalue = [44, 78, 16, 12, 4, 17, 6, 9, 46, 43]'),\n",
              " Text(99.39375, 18.119999999999976, 'gini = 0.655\\nsamples = 644\\nvalue = [33, 354, 20, 20, 2, 18, 8, 19, 64, 106]'),\n",
              " Text(115.0875, 54.359999999999985, 'X[7] <= 5.093\\ngini = 0.835\\nsamples = 2311\\nvalue = [527, 314, 102, 64, 93, 73, 27, 160, 489, 462]'),\n",
              " Text(109.85625, 18.119999999999976, 'gini = 0.833\\nsamples = 1717\\nvalue = [451, 185, 91, 49, 86, 59, 24, 119, 376, 277]'),\n",
              " Text(120.31875000000001, 18.119999999999976, 'gini = 0.797\\nsamples = 594\\nvalue = [76, 129, 11, 15, 7, 14, 3, 41, 113, 185]'),\n",
              " Text(146.475, 90.6, 'X[4] <= 2.367\\ngini = 0.798\\nsamples = 3622\\nvalue = [337, 382, 160, 164, 153, 186, 209, 139, 1407, 485]'),\n",
              " Text(136.01250000000002, 54.359999999999985, 'X[0] <= 9.183\\ngini = 0.862\\nsamples = 2187\\nvalue = [152, 309, 116, 139, 125, 161, 163, 116, 538, 368]'),\n",
              " Text(130.78125, 18.119999999999976, 'gini = 0.886\\nsamples = 1188\\nvalue = [68, 201, 68, 97, 81, 124, 152, 85, 131, 181]'),\n",
              " Text(141.24375, 18.119999999999976, 'gini = 0.772\\nsamples = 999\\nvalue = [84, 108, 48, 42, 44, 37, 11, 31, 407, 187]'),\n",
              " Text(156.9375, 54.359999999999985, 'X[0] <= -11.653\\ngini = 0.604\\nsamples = 1435\\nvalue = [185, 73, 44, 25, 28, 25, 46, 23, 869, 117]'),\n",
              " Text(151.70625, 18.119999999999976, 'gini = 0.818\\nsamples = 373\\nvalue = [48, 32, 27, 16, 10, 15, 42, 12, 131, 40]'),\n",
              " Text(162.16875000000002, 18.119999999999976, 'gini = 0.493\\nsamples = 1062\\nvalue = [137, 41, 17, 9, 18, 10, 4, 11, 738, 77]'),\n",
              " Text(251.10000000000002, 163.07999999999998, 'X[4] <= 9.328\\ngini = 0.894\\nsamples = 35613\\nvalue = [3521, 2803, 4213, 4183, 4279, 4365, 4270, 3808, 2264\\n1907]'),\n",
              " Text(209.25, 126.83999999999999, 'X[16] <= 2.141\\ngini = 0.888\\nsamples = 30508\\nvalue = [1952, 2257, 3723, 3863, 3912, 4122, 4127, 3598, 1376\\n1578]'),\n",
              " Text(188.32500000000002, 90.6, 'X[2] <= 13.715\\ngini = 0.888\\nsamples = 22237\\nvalue = [1566, 1839, 2135, 3371, 2112, 3417, 2822, 2555, 1131\\n1289]'),\n",
              " Text(177.8625, 54.359999999999985, 'X[0] <= 37.187\\ngini = 0.887\\nsamples = 18344\\nvalue = [1289, 1425, 1969, 2722, 1995, 2380, 2589, 2262, 603\\n1110]'),\n",
              " Text(172.63125, 18.119999999999976, 'gini = 0.882\\nsamples = 16169\\nvalue = [718, 1254, 1666, 2460, 1881, 2234, 2375, 2119, 496\\n966]'),\n",
              " Text(183.09375, 18.119999999999976, 'gini = 0.863\\nsamples = 2175\\nvalue = [571, 171, 303, 262, 114, 146, 214, 143, 107, 144]'),\n",
              " Text(198.7875, 54.359999999999985, 'X[5] <= 1.95\\ngini = 0.852\\nsamples = 3893\\nvalue = [277, 414, 166, 649, 117, 1037, 233, 293, 528, 179]'),\n",
              " Text(193.55625, 18.119999999999976, 'gini = 0.869\\nsamples = 2034\\nvalue = [191, 343, 87, 234, 82, 317, 100, 157, 415, 108]'),\n",
              " Text(204.01875, 18.119999999999976, 'gini = 0.779\\nsamples = 1859\\nvalue = [86, 71, 79, 415, 35, 720, 133, 136, 113, 71]'),\n",
              " Text(230.175, 90.6, 'X[19] <= -1.54\\ngini = 0.857\\nsamples = 8271\\nvalue = [386, 418, 1588, 492, 1800, 705, 1305, 1043, 245, 289]'),\n",
              " Text(219.7125, 54.359999999999985, 'X[4] <= -0.268\\ngini = 0.862\\nsamples = 2625\\nvalue = [130, 227, 667, 215, 383, 312, 314, 156, 104, 117]'),\n",
              " Text(214.48125000000002, 18.119999999999976, 'gini = 0.825\\nsamples = 1631\\nvalue = [75, 41, 500, 136, 277, 217, 233, 95, 25, 32]'),\n",
              " Text(224.94375, 18.119999999999976, 'gini = 0.883\\nsamples = 994\\nvalue = [55, 186, 167, 79, 106, 95, 81, 61, 79, 85]'),\n",
              " Text(240.63750000000002, 54.359999999999985, 'X[24] <= -0.105\\ngini = 0.843\\nsamples = 5646\\nvalue = [256, 191, 921, 277, 1417, 393, 991, 887, 141, 172]'),\n",
              " Text(235.40625, 18.119999999999976, 'gini = 0.854\\nsamples = 2443\\nvalue = [166, 119, 408, 129, 541, 185, 225, 503, 63, 104]'),\n",
              " Text(245.86875, 18.119999999999976, 'gini = 0.819\\nsamples = 3203\\nvalue = [90, 72, 513, 148, 876, 208, 766, 384, 78, 68]'),\n",
              " Text(292.95, 126.83999999999999, 'X[0] <= 8.219\\ngini = 0.837\\nsamples = 5105\\nvalue = [1569, 546, 490, 320, 367, 243, 143, 210, 888, 329]'),\n",
              " Text(272.02500000000003, 90.6, 'X[4] <= 21.535\\ngini = 0.878\\nsamples = 2993\\nvalue = [510, 419, 265, 268, 294, 190, 114, 176, 550, 207]'),\n",
              " Text(261.5625, 54.359999999999985, 'X[2] <= 8.123\\ngini = 0.883\\nsamples = 2453\\nvalue = [238, 387, 205, 247, 276, 174, 104, 171, 457, 194]'),\n",
              " Text(256.33125, 18.119999999999976, 'gini = 0.889\\nsamples = 1827\\nvalue = [152, 315, 181, 198, 258, 125, 95, 142, 190, 171]'),\n",
              " Text(266.79375, 18.119999999999976, 'gini = 0.768\\nsamples = 626\\nvalue = [86, 72, 24, 49, 18, 49, 9, 29, 267, 23]'),\n",
              " Text(282.4875, 54.359999999999985, 'X[59] <= 1.686\\ngini = 0.696\\nsamples = 540\\nvalue = [272, 32, 60, 21, 18, 16, 10, 5, 93, 13]'),\n",
              " Text(277.25625, 18.119999999999976, 'gini = 0.597\\nsamples = 388\\nvalue = [235, 21, 31, 9, 9, 6, 5, 4, 61, 7]'),\n",
              " Text(287.71875, 18.119999999999976, 'gini = 0.838\\nsamples = 152\\nvalue = [37, 11, 29, 12, 9, 10, 5, 1, 32, 6]'),\n",
              " Text(313.875, 90.6, 'X[1] <= 5.989\\ngini = 0.702\\nsamples = 2112\\nvalue = [1059, 127, 225, 52, 73, 53, 29, 34, 338, 122]'),\n",
              " Text(303.4125, 54.359999999999985, 'X[7] <= 6.197\\ngini = 0.78\\nsamples = 829\\nvalue = [290, 75, 73, 20, 39, 11, 9, 18, 220, 74]'),\n",
              " Text(298.18125000000003, 18.119999999999976, 'gini = 0.744\\nsamples = 688\\nvalue = [271, 32, 68, 15, 35, 10, 6, 16, 197, 38]'),\n",
              " Text(308.64375, 18.119999999999976, 'gini = 0.793\\nsamples = 141\\nvalue = [19, 43, 5, 5, 4, 1, 3, 2, 23, 36]'),\n",
              " Text(324.33750000000003, 54.359999999999985, 'X[59] <= 1.571\\ngini = 0.612\\nsamples = 1283\\nvalue = [769, 52, 152, 32, 34, 42, 20, 16, 118, 48]'),\n",
              " Text(319.10625, 18.119999999999976, 'gini = 0.538\\nsamples = 1000\\nvalue = [666, 37, 80, 16, 26, 20, 15, 15, 84, 41]'),\n",
              " Text(329.56875, 18.119999999999976, 'gini = 0.775\\nsamples = 283\\nvalue = [103, 15, 72, 16, 8, 22, 5, 1, 34, 7]')]"
            ]
          },
          "metadata": {
            "tags": []
          },
          "execution_count": 99
        },
        {
          "output_type": "display_data",
          "data": {
            "image/png": "[encoded data removed]",
            "text/plain": [
              "<Figure size 432x288 with 1 Axes>"
            ]
          },
          "metadata": {
            "tags": []
          }
        }
      ]
    },
    {
      "cell_type": "code",
      "metadata": {
        "id": "WCeOzBuuTGad",
        "colab_type": "code",
        "outputId": "38d070ae-ac90-4085-c0ec-c2180fb200d5",
        "colab": {
          "base_uri": "https://localhost:8080/",
          "height": 34
        }
      },
      "source": [
        "\n",
        "tree.score(x_test, y_test)\n"
      ],
      "execution_count": 0,
      "outputs": [
        {
          "output_type": "execute_result",
          "data": {
            "text/plain": [
              "0.2615"
            ]
          },
          "metadata": {
            "tags": []
          },
          "execution_count": 100
        }
      ]
    }
  ]
}