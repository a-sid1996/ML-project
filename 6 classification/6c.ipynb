{
 "cells": [
  {
   "cell_type": "code",
   "execution_count": 0,
   "metadata": {
    "colab": {},
    "colab_type": "code",
    "id": "7M7tVg0PR2V7"
   },
   "outputs": [],
   "source": [
    "import numpy as np\n",
    "from scipy.io import arff\n",
    "from io import StringIO\n",
    "import sklearn\n",
    "from sklearn import svm\n",
    "from sklearn.neighbors import KNeighborsClassifier\n",
    "from sklearn.tree import DecisionTreeClassifier\n",
    "from sklearn import preprocessing\n",
    "from sklearn.model_selection import RandomizedSearchCV\n",
    "from sklearn.model_selection import GridSearchCV\n",
    "from sklearn.ensemble import RandomForestClassifier\n",
    "from sklearn.ensemble import AdaBoostClassifier\n",
    "from sklearn.linear_model import LogisticRegression\n",
    "from sklearn.naive_bayes import GaussianNB\n",
    "from sklearn.neural_network import MLPClassifier\n",
    "from sklearn.preprocessing import StandardScaler\n",
    "from sklearn.exceptions import ConvergenceWarning\n",
    "import warnings\n",
    "from sklearn.exceptions import DataConversionWarning\n",
    "warnings.filterwarnings(action='ignore', category=DataConversionWarning)\n",
    "warnings.filterwarnings(\"ignore\", category=FutureWarning) \n",
    "warnings.filterwarnings(\"ignore\", category=DeprecationWarning)\n",
    "warnings.filterwarnings(\"ignore\", category=ConvergenceWarning)\n",
    "from sklearn.metrics import mean_squared_error\n",
    "import pandas as pd\n",
    "from sklearn.metrics import make_scorer\n",
    "import time"
   ]
  },
  {
   "cell_type": "code",
   "execution_count": 0,
   "metadata": {
    "colab": {},
    "colab_type": "code",
    "id": "FcA7fHpqvhzx"
   },
   "outputs": [],
   "source": [
    "def read(a):\n",
    "  f = open(a,\"r\")\n",
    "  c = StringIO(f.read())\n",
    "  return np.loadtxt(c)"
   ]
  },
  {
   "cell_type": "code",
   "execution_count": 0,
   "metadata": {
    "colab": {},
    "colab_type": "code",
    "id": "k4scgzE4R67i"
   },
   "outputs": [],
   "source": [
    "def report(results, n_top=3):\n",
    "    for i in range(1, n_top + 1):\n",
    "        candidates = np.flatnonzero(results['rank_test_score'] == i)\n",
    "        j = 0\n",
    "        for candidate in candidates:\n",
    "            print(\"Model with rank: {0}\".format(i))\n",
    "            print(\"Mean validation score: {0:.3f} (std: {1:.3f})\".format(\n",
    "                  results['mean_test_score'][candidate],\n",
    "                  results['std_test_score'][candidate]))\n",
    "            print(\"Parameters: {0}\".format(results['params'][candidate]))\n",
    "            print(\"\")\n",
    "            if j > 1:\n",
    "                break\n",
    "            j+=1\n",
    "\n",
    "\n",
    "def randomCV(clf, X, y, param_grid, n_iter, cv):\n",
    "\trandom_search = RandomizedSearchCV(clf, param_distributions = param_grid,\n",
    "\t\t\t\t\tn_iter = n_iter, cv = cv, iid = False, n_jobs = -1)\n",
    "\trandom_search.fit(X, y)\n",
    "\treport(random_search.cv_results_)\n",
    "\treturn random_search.best_params_\t\t\n",
    "\n",
    "def KNN(X, y):\n",
    "\t\n",
    "\tneigh = KNeighborsClassifier()\n",
    "\tparam_grid = {\n",
    "\t\t\"n_neighbors\" : np.arange(1,20),\n",
    "\t\t\"algorithm\" : ['auto', 'ball_tree', 'kd_tree', 'brute'],\n",
    "\t\t\"weights\" : ['uniform', 'distance'],\n",
    "\t\t\"leaf_size\" : np.arange(1,60)\n",
    "\t}\n",
    "\treturn randomCV(neigh, X, y, param_grid, 400, 6)\n",
    "\n",
    "def SVM(X, y):\n",
    "\n",
    "#        C_grid = [0.1, 1, 10]\n",
    "#        gamma_grid = np.logspace(-2, 1, 4)[0:3]\n",
    "#        svm_C = svm.SVC(kernel='poly')\n",
    "#        param_grid = { 'C' : C_grid, 'gamma' : gamma_grid, \"kernel\" : ['poly', 'rbf', 'sigmoid'], }\n",
    "#        gridcv = GridSearchCV(svm_C, param_grid, verbose=1, cv=3)\n",
    "#        gridcv.fit(X, y)\n",
    "#        print(\"best parameters:\", gridcv.best_params_)\n",
    "#        print(\"%.1f%% accuracy on validation sets (average)\" % (gridcv.best_score_*100))\n",
    "\n",
    "\tsvm_C = svm.SVC()\n",
    "\tparam_grid = {\n",
    "\t\t\"kernel\" : ['linear', 'rbf', 'sigmoid'],\n",
    "\t\t\"gamma\" : ['scale', 'auto'],\n",
    "\t\t\"degree\" : np.arange(10),\n",
    "\t\t\"coef0\" : np.random.rand(60)*10,\n",
    "\t\t\"shrinking\" : [False, True],\n",
    "\t\t\"decision_function_shape\" : ['ovo','ovr']\n",
    "\t}\n",
    "\treturn randomCV(svm_C, X, y, param_grid, 4, 6)\n",
    "\n",
    "def DT(X, y):\n",
    "\tdt = DecisionTreeClassifier()\n",
    "\tparam_grid = {\n",
    "\t\t\"criterion\" : ['gini', 'entropy'],\n",
    "\t\t\"splitter\" : ['best', 'random'],\n",
    "\t\t\"min_samples_split\" : np.random.random_sample((100,)),\n",
    "\t\t\"max_features\" : ['auto', 'sqrt', 'log2', None],\n",
    "\t\t\"class_weight\" : [None, 'balanced'],\n",
    "\t\t\"presort\" : [True, False],\n",
    "\t\t\"min_samples_leaf\" : np.arange(1,6)\n",
    "\t}\n",
    "\treturn randomCV(dt, X, y, param_grid, 400, 6)\n",
    "\n",
    "def RF(X, y):\n",
    "\trf = RandomForestClassifier()\n",
    "\tparam_grid = {\n",
    "\t\t\"n_estimators\" : [10*x for x in np.arange(1,50)],\n",
    "\t\t\"criterion\" : ['gini', 'entropy'],\n",
    "\t\t\"min_samples_split\" : np.random.random_sample((100,)),\n",
    "\t\t\"max_features\" : ['auto', 'sqrt', 'log2', None],\n",
    "#\t\t\"class_weight\" : [None, 'balanced'],\n",
    "\t\t\"min_samples_leaf\" : np.arange(1,6),\n",
    "#\t\t\"bootstrap\" : [True, False],\n",
    "#\t\t\"oob_score\" : [True, False],\n",
    "\t\t\"warm_start\" : [True, False],\n",
    "\t}\n",
    "\treturn randomCV(rf, X, y, param_grid, 40, 6)\n",
    "\n",
    "def Ada(X, y):\n",
    "\tada = AdaBoostClassifier(algorithm = \"SAMME\")\n",
    "\tparam_grid = {\n",
    "#\t\t\"base_estimator\" : ['classes', 'n_classes_', None],\n",
    "\t\t\"n_estimators\" : [10*x for x in np.arange(1,50)]\n",
    "#\t\t\"learning_rate\" : [10*x for x in np.random.random_sample((100,))]\n",
    "#\t\t\"algorithm\" : ['SAMME']\n",
    "\t}\n",
    "\treturn randomCV(ada, X, y, param_grid, 40, 6)\n",
    "\n",
    "def LR(X, y):\n",
    "\tlr = LogisticRegression()\n",
    "\tparam_grid = {\n",
    "\t\t\"penalty\" : ['l1', 'l2'],\n",
    "#\t\t\"dual\" : [True, False],\n",
    "\t\t\"C\" : np.random.rand(60),\n",
    "\t\t\"fit_intercept\" : [True, False],\n",
    "\t\t\"warm_start\" : [True, False],\n",
    "\t\t\"multi_class\" : ['ovr', 'auto'],\n",
    "\t\t\"solver\" : [ 'liblinear']\n",
    "\t}\n",
    "\treturn randomCV(lr, X, y, param_grid, 400, 6)\n",
    "\n",
    "def GNB(X, y):\n",
    "\tgnb = GaussianNB()\n",
    "\tparam_grid = {\n",
    "\t\t\"var_smoothing\" : np.random.random_sample((100,))\n",
    "\t}\n",
    "\treturn randomCV(gnb, X, y, param_grid, 100, 6)\n",
    "\n",
    "def NN(X, y):\n",
    "\tnn = MLPClassifier()\n",
    "\tparam_grid = {\n",
    "\t\t\"hidden_layer_sizes\" : np.arange(2,200),\n",
    "\t\t\"activation\" : ['identity', 'logistic', 'tanh', 'relu'],\n",
    "\t\t\"solver\" : ['lbfgs', 'sgd', 'adam'],\n",
    "#\t\t\"verbose\" : [True, False],\n",
    "\t\t\"warm_start\" : [False, True]\n",
    "\t}\n",
    "\treturn randomCV(nn, X, y, param_grid, 200, 6)\n"
   ]
  },
  {
   "cell_type": "code",
   "execution_count": 0,
   "metadata": {
    "colab": {
     "base_uri": "https://localhost:8080/",
     "height": 34
    },
    "colab_type": "code",
    "id": "-eQICSxiSA6u",
    "outputId": "b347076c-a48b-4209-b48d-99bc1dcffcfa"
   },
   "outputs": [
    {
     "name": "stdout",
     "output_type": "stream",
     "text": [
      "(1941, 34)\n"
     ]
    }
   ],
   "source": [
    "data = read('Faults.NNA')\n",
    "print(data.shape)\n",
    "\n",
    "np.random.shuffle(data)\n",
    "\n",
    "y = data[:,-1]\n",
    "x = data[:,0:data.shape[1] -1]\n",
    "\n",
    "x_test, x_train = np.split(x, [290])\n",
    "y_test, y_train = np.split(y, [290])\n",
    "\n",
    "scaler = StandardScaler()                         # scaling features\n",
    "scaler.fit(x_train)\n",
    "x_train = scaler.transform(x_train)\n",
    "x_test = scaler.transform(x_test)"
   ]
  },
  {
   "cell_type": "code",
   "execution_count": 0,
   "metadata": {
    "colab": {
     "base_uri": "https://localhost:8080/",
     "height": 243
    },
    "colab_type": "code",
    "id": "2RogjmRozNpt",
    "outputId": "794ea9a7-1ca1-4b92-80b2-6ecadf8d6e37"
   },
   "outputs": [
    {
     "name": "stdout",
     "output_type": "stream",
     "text": [
      "Model with rank: 1\n",
      "Mean validation score: 0.988 (std: 0.004)\n",
      "Parameters: {'weights': 'distance', 'n_neighbors': 4, 'leaf_size': 38, 'algorithm': 'auto'}\n",
      "\n",
      "Model with rank: 1\n",
      "Mean validation score: 0.988 (std: 0.004)\n",
      "Parameters: {'weights': 'distance', 'n_neighbors': 4, 'leaf_size': 17, 'algorithm': 'kd_tree'}\n",
      "\n",
      "Model with rank: 1\n",
      "Mean validation score: 0.988 (std: 0.004)\n",
      "Parameters: {'weights': 'distance', 'n_neighbors': 4, 'leaf_size': 56, 'algorithm': 'brute'}\n",
      "\n",
      "Score with test data 0.993103448275862\n"
     ]
    }
   ],
   "source": [
    "# --------------------> KNN\n",
    "\n",
    "param = KNN(x_train,y_train)\n",
    "knn_c = KNeighborsClassifier().set_params(**param)\n",
    "knn_c.fit(x_train, y_train)\n",
    "\n",
    "print(\"Score with test data\",knn_c.score(x_test, y_test))"
   ]
  },
  {
   "cell_type": "code",
   "execution_count": 0,
   "metadata": {
    "colab": {
     "base_uri": "https://localhost:8080/",
     "height": 263
    },
    "colab_type": "code",
    "id": "Q3_JiaKUzSN7",
    "outputId": "486b31e8-2816-4d9d-9180-3f85d2166751"
   },
   "outputs": [
    {
     "name": "stdout",
     "output_type": "stream",
     "text": [
      "Model with rank: 1\n",
      "Mean validation score: 1.000 (std: 0.000)\n",
      "Parameters: {'splitter': 'best', 'presort': False, 'min_samples_split': 0.22500364645016824, 'min_samples_leaf': 5, 'max_features': None, 'criterion': 'entropy', 'class_weight': None}\n",
      "\n",
      "Model with rank: 1\n",
      "Mean validation score: 1.000 (std: 0.000)\n",
      "Parameters: {'splitter': 'best', 'presort': False, 'min_samples_split': 0.029074150117447295, 'min_samples_leaf': 4, 'max_features': None, 'criterion': 'entropy', 'class_weight': 'balanced'}\n",
      "\n",
      "Model with rank: 1\n",
      "Mean validation score: 1.000 (std: 0.000)\n",
      "Parameters: {'splitter': 'best', 'presort': False, 'min_samples_split': 0.033389156254798436, 'min_samples_leaf': 5, 'max_features': None, 'criterion': 'entropy', 'class_weight': None}\n",
      "\n",
      "Score with test data 1.0\n"
     ]
    }
   ],
   "source": [
    "# --------------------> Decision Tree\n",
    "\n",
    "param = DT(x_train,y_train)\n",
    "dt_c = DecisionTreeClassifier().set_params(**param)\n",
    "dt_c.fit(x_train, y_train)\n",
    "\n",
    "print(\"Score with test data\",dt_c.score(x_test, y_test))"
   ]
  },
  {
   "cell_type": "code",
   "execution_count": 0,
   "metadata": {
    "colab": {
     "base_uri": "https://localhost:8080/",
     "height": 263
    },
    "colab_type": "code",
    "id": "znO3iMO6zUX0",
    "outputId": "a79c0730-9a5e-4dae-b178-7a7080813a91"
   },
   "outputs": [
    {
     "name": "stdout",
     "output_type": "stream",
     "text": [
      "Model with rank: 1\n",
      "Mean validation score: 1.000 (std: 0.000)\n",
      "Parameters: {'warm_start': False, 'n_estimators': 20, 'min_samples_split': 0.01986813096009843, 'min_samples_leaf': 2, 'max_features': None, 'criterion': 'gini'}\n",
      "\n",
      "Model with rank: 1\n",
      "Mean validation score: 1.000 (std: 0.000)\n",
      "Parameters: {'warm_start': False, 'n_estimators': 260, 'min_samples_split': 0.01986813096009843, 'min_samples_leaf': 3, 'max_features': None, 'criterion': 'entropy'}\n",
      "\n",
      "Model with rank: 3\n",
      "Mean validation score: 0.994 (std: 0.003)\n",
      "Parameters: {'warm_start': False, 'n_estimators': 150, 'min_samples_split': 0.02124718871422049, 'min_samples_leaf': 1, 'max_features': 'auto', 'criterion': 'gini'}\n",
      "\n",
      "Score with test data 1.0\n"
     ]
    }
   ],
   "source": [
    "# --------------------> Random Forest\n",
    "\n",
    "param = RF(x_train,y_train)\n",
    "rf_c = RandomForestClassifier().set_params(**param)\n",
    "rf_c.fit(x_train, y_train)\n",
    "\n",
    "print(\"Score with test data\",rf_c.score(x_test, y_test))"
   ]
  },
  {
   "cell_type": "code",
   "execution_count": 0,
   "metadata": {
    "colab": {
     "base_uri": "https://localhost:8080/",
     "height": 243
    },
    "colab_type": "code",
    "id": "2VQ4UTmNzXHF",
    "outputId": "390dee4b-688b-4103-aa95-0942b4c0147e"
   },
   "outputs": [
    {
     "name": "stdout",
     "output_type": "stream",
     "text": [
      "Model with rank: 1\n",
      "Mean validation score: 1.000 (std: 0.000)\n",
      "Parameters: {'n_estimators': 280}\n",
      "\n",
      "Model with rank: 1\n",
      "Mean validation score: 1.000 (std: 0.000)\n",
      "Parameters: {'n_estimators': 460}\n",
      "\n",
      "Model with rank: 1\n",
      "Mean validation score: 1.000 (std: 0.000)\n",
      "Parameters: {'n_estimators': 240}\n",
      "\n",
      "Score with test data 1.0\n"
     ]
    }
   ],
   "source": [
    "# --------------------> Adaboost\n",
    "\n",
    "param = Ada(x_train,y_train)\n",
    "ada_c = AdaBoostClassifier().set_params(**param)\n",
    "ada_c.fit(x_train, y_train)\n",
    "\n",
    "print(\"Score with test data\",ada_c.score(x_test, y_test))"
   ]
  },
  {
   "cell_type": "code",
   "execution_count": 0,
   "metadata": {
    "colab": {
     "base_uri": "https://localhost:8080/",
     "height": 263
    },
    "colab_type": "code",
    "id": "rJ2kJWk8TMY_",
    "outputId": "76c2d79d-a761-4567-a34f-bd9ea75c3e52"
   },
   "outputs": [
    {
     "name": "stdout",
     "output_type": "stream",
     "text": [
      "Model with rank: 1\n",
      "Mean validation score: 1.000 (std: 0.000)\n",
      "Parameters: {'warm_start': True, 'solver': 'liblinear', 'penalty': 'l1', 'multi_class': 'ovr', 'fit_intercept': False, 'C': 0.43907250236114026}\n",
      "\n",
      "Model with rank: 1\n",
      "Mean validation score: 1.000 (std: 0.000)\n",
      "Parameters: {'warm_start': False, 'solver': 'liblinear', 'penalty': 'l1', 'multi_class': 'ovr', 'fit_intercept': True, 'C': 0.249902819355884}\n",
      "\n",
      "Model with rank: 1\n",
      "Mean validation score: 1.000 (std: 0.000)\n",
      "Parameters: {'warm_start': True, 'solver': 'liblinear', 'penalty': 'l1', 'multi_class': 'auto', 'fit_intercept': False, 'C': 0.8539782134068196}\n",
      "\n",
      "Score with test data 1.0\n"
     ]
    }
   ],
   "source": [
    "# ---------------------> Logistic regression\n",
    "\n",
    "param = LR(x_train,y_train)\n",
    "lr_c = LogisticRegression().set_params(**param)\n",
    "lr_c.fit(x_train, y_train)\n",
    "\n",
    "print(\"Score with test data\",lr_c.score(x_test, y_test))"
   ]
  },
  {
   "cell_type": "code",
   "execution_count": 0,
   "metadata": {
    "colab": {
     "base_uri": "https://localhost:8080/",
     "height": 382
    },
    "colab_type": "code",
    "id": "UhAZD8d7zhjK",
    "outputId": "d53b27cc-8ef3-43a0-9747-dbcf944f8222"
   },
   "outputs": [
    {
     "name": "stdout",
     "output_type": "stream",
     "text": [
      "Model with rank: 1\n",
      "Mean validation score: 0.994 (std: 0.005)\n",
      "Parameters: {'var_smoothing': 0.0058240255230948}\n",
      "\n",
      "Model with rank: 1\n",
      "Mean validation score: 0.994 (std: 0.005)\n",
      "Parameters: {'var_smoothing': 0.004623293763277192}\n",
      "\n",
      "Model with rank: 3\n",
      "Mean validation score: 0.993 (std: 0.005)\n",
      "Parameters: {'var_smoothing': 0.03142584337157728}\n",
      "\n",
      "Model with rank: 3\n",
      "Mean validation score: 0.993 (std: 0.005)\n",
      "Parameters: {'var_smoothing': 0.0394842325395619}\n",
      "\n",
      "Model with rank: 3\n",
      "Mean validation score: 0.993 (std: 0.005)\n",
      "Parameters: {'var_smoothing': 0.019793138660693432}\n",
      "\n",
      "Score with test data 0.9862068965517241\n"
     ]
    }
   ],
   "source": [
    "# ---------------------> Gaussian NB\n",
    "\n",
    "param = GNB(x_train,y_train)\n",
    "gnb_c = GaussianNB().set_params(**param)\n",
    "gnb_c.fit(x_train, y_train)\n",
    "\n",
    "print(\"Score with test data\",gnb_c.score(x_test, y_test))"
   ]
  },
  {
   "cell_type": "code",
   "execution_count": 0,
   "metadata": {
    "colab": {
     "base_uri": "https://localhost:8080/",
     "height": 350
    },
    "colab_type": "code",
    "id": "gejCzEZPzmfv",
    "outputId": "6f4f4dd3-bde4-4145-c556-2d81c8ee18bb"
   },
   "outputs": [
    {
     "name": "stderr",
     "output_type": "stream",
     "text": [
      "/usr/local/lib/python3.6/dist-packages/sklearn/neural_network/multilayer_perceptron.py:568: UserWarning: Training interrupted by user.\n",
      "  warnings.warn(\"Training interrupted by user.\")\n",
      "/usr/local/lib/python3.6/dist-packages/sklearn/neural_network/multilayer_perceptron.py:568: UserWarning: Training interrupted by user.\n",
      "  warnings.warn(\"Training interrupted by user.\")\n",
      "/usr/local/lib/python3.6/dist-packages/sklearn/neural_network/multilayer_perceptron.py:568: UserWarning: Training interrupted by user.\n",
      "  warnings.warn(\"Training interrupted by user.\")\n",
      "/usr/local/lib/python3.6/dist-packages/sklearn/neural_network/multilayer_perceptron.py:568: UserWarning: Training interrupted by user.\n",
      "  warnings.warn(\"Training interrupted by user.\")\n",
      "/usr/local/lib/python3.6/dist-packages/sklearn/neural_network/multilayer_perceptron.py:568: UserWarning: Training interrupted by user.\n",
      "  warnings.warn(\"Training interrupted by user.\")\n",
      "/usr/local/lib/python3.6/dist-packages/sklearn/neural_network/multilayer_perceptron.py:568: UserWarning: Training interrupted by user.\n",
      "  warnings.warn(\"Training interrupted by user.\")\n",
      "/usr/local/lib/python3.6/dist-packages/sklearn/neural_network/multilayer_perceptron.py:568: UserWarning: Training interrupted by user.\n",
      "  warnings.warn(\"Training interrupted by user.\")\n",
      "/usr/local/lib/python3.6/dist-packages/sklearn/neural_network/multilayer_perceptron.py:568: UserWarning: Training interrupted by user.\n",
      "  warnings.warn(\"Training interrupted by user.\")\n",
      "/usr/local/lib/python3.6/dist-packages/sklearn/neural_network/multilayer_perceptron.py:568: UserWarning: Training interrupted by user.\n",
      "  warnings.warn(\"Training interrupted by user.\")\n"
     ]
    }
   ],
   "source": [
    "# ---------------------> Neural Network\n",
    "\n",
    "param = NN(x_train,y_train)\n",
    "nn_c = MLPClassifier().set_params(**param)\n",
    "nn_c.fit(x_train, y_train)\n",
    "\n",
    "print(\"Score with test data\",nn_c.score(x_test, y_test))\n",
    "\n",
    "# Did not converge"
   ]
  },
  {
   "cell_type": "code",
   "execution_count": 0,
   "metadata": {
    "colab": {
     "base_uri": "https://localhost:8080/",
     "height": 237
    },
    "colab_type": "code",
    "id": "fy8pmVCSzo6s",
    "outputId": "db0c7433-571e-4002-f0d8-134b2500941b"
   },
   "outputs": [
    {
     "ename": "NameError",
     "evalue": "ignored",
     "output_type": "error",
     "traceback": [
      "\u001b[0;31m---------------------------------------------------------------------------\u001b[0m",
      "\u001b[0;31mNameError\u001b[0m                                 Traceback (most recent call last)",
      "\u001b[0;32m<ipython-input-1-7b9a9a92b36e>\u001b[0m in \u001b[0;36m<module>\u001b[0;34m()\u001b[0m\n\u001b[1;32m      1\u001b[0m \u001b[0;34m\u001b[0m\u001b[0m\n\u001b[0;32m----> 2\u001b[0;31m \u001b[0mparam\u001b[0m \u001b[0;34m=\u001b[0m \u001b[0mSVM\u001b[0m\u001b[0;34m(\u001b[0m\u001b[0mx_train\u001b[0m\u001b[0;34m,\u001b[0m\u001b[0my_train\u001b[0m\u001b[0;34m)\u001b[0m\u001b[0;34m\u001b[0m\u001b[0;34m\u001b[0m\u001b[0m\n\u001b[0m\u001b[1;32m      3\u001b[0m \u001b[0msvm_c\u001b[0m \u001b[0;34m=\u001b[0m \u001b[0msvm\u001b[0m\u001b[0;34m.\u001b[0m\u001b[0mSVC\u001b[0m\u001b[0;34m(\u001b[0m\u001b[0;34m)\u001b[0m\u001b[0;34m.\u001b[0m\u001b[0mset_params\u001b[0m\u001b[0;34m(\u001b[0m\u001b[0;34m**\u001b[0m\u001b[0mparam\u001b[0m\u001b[0;34m)\u001b[0m\u001b[0;34m\u001b[0m\u001b[0;34m\u001b[0m\u001b[0m\n\u001b[1;32m      4\u001b[0m \u001b[0msvm_c\u001b[0m\u001b[0;34m.\u001b[0m\u001b[0mfit\u001b[0m\u001b[0;34m(\u001b[0m\u001b[0mx_train\u001b[0m\u001b[0;34m,\u001b[0m \u001b[0my_train\u001b[0m\u001b[0;34m)\u001b[0m\u001b[0;34m\u001b[0m\u001b[0;34m\u001b[0m\u001b[0m\n\u001b[1;32m      5\u001b[0m \u001b[0;34m\u001b[0m\u001b[0m\n",
      "\u001b[0;31mNameError\u001b[0m: name 'SVM' is not defined"
     ]
    }
   ],
   "source": [
    "\n",
    "## --------------------> SVM\n",
    "\n",
    "param = SVM(x_train,y_train)\n",
    "svm_c = svm.SVC().set_params(**param)\n",
    "svm_c.fit(x_train, y_train)\n",
    "\n",
    "print(\"Score with test data\",svm_c.score(x_test, y_test))"
   ]
  }
 ],
 "metadata": {
  "colab": {
   "collapsed_sections": [],
   "name": "6c.ipynb",
   "provenance": []
  },
  "kernelspec": {
   "display_name": "Python 3",
   "language": "python",
   "name": "python3"
  },
  "language_info": {
   "codemirror_mode": {
    "name": "ipython",
    "version": 3
   },
   "file_extension": ".py",
   "mimetype": "text/x-python",
   "name": "python",
   "nbconvert_exporter": "python",
   "pygments_lexer": "ipython3",
   "version": "3.7.3"
  }
 },
 "nbformat": 4,
 "nbformat_minor": 1
}
